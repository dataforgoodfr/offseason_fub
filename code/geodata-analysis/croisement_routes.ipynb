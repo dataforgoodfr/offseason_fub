{
 "cells": [
  {
   "cell_type": "markdown",
   "id": "6ed61ef4",
   "metadata": {},
   "source": [
    "# Thème 3: Aménagement cyclable/apaisement\n",
    "**Correspondance cartographique :** densité point rouge_58 / vert_60 x type de voirie (Données Route 500) \n",
    "- Identifier la part des points rouges situées à moins de 50 mètres de voies / carrefours routières \n",
    "- La majorité des points rouges se situe sur des infrastructures routières complexes (voies structurantes / carrefour routier) \n",
    "\n",
    "> Hypothèse : Il faut transformer les infrastructures automobiles structurantes pour sécuriser la pratique des cyclistes\n",
    "\n",
    "**Consignes supplémentaires :** Initialement l'idée était de faire ça avec les points uniques mais faire cela à partir des concentrations de points que tu as identifié sera sans doute plus pertinent.<br/>\n",
    "\n",
    "identifier pour chaque cluster (vert / rouge) :\n",
    "1. sur quels types de voirie il se situe (oui ou non présent sur un gros axe)\n",
    "2. Et voir s'il y a une corrélation "
   ]
  },
  {
   "cell_type": "markdown",
   "id": "cf121706",
   "metadata": {},
   "source": [
    "(on retrouve un lien entre cluster rouge & liaison à vocation régionale/nationale là où on a des infra de route les plus importantes les points les plus dangereux car ce n'est pas adaptée)\n",
    "!= points verts --> liaisons locales (car c'est aménagés)\n",
    "\n",
    "\n",
    "NB_VOIES --> danger car voie trop grande ??? \n",
    "\n",
    "\n",
    "Livrable : tableau + graphique + correlation ou pas\n",
    "\n",
    "Cluster contient un carrefour ? --> typologie du carrefour lien entre la présence d'un carrefour et la présence d'un cluster ? "
   ]
  },
  {
   "cell_type": "markdown",
   "id": "2bf074f2",
   "metadata": {},
   "source": [
    "## Python stuff"
   ]
  },
  {
   "cell_type": "code",
   "execution_count": 1,
   "id": "f0679cae",
   "metadata": {},
   "outputs": [],
   "source": [
    "import numpy as np\n",
    "import pandas as pd\n",
    "import geopandas as gpd\n",
    "import plotly.express as px\n",
    "from s3_utils import S3Manager\n",
    "import matplotlib.pyplot as plt\n",
    "from scipy.stats import chi2_contingency, fisher_exact\n",
    "\n",
    "# Configs\n",
    "_ = plt.style.use(\"ggplot\")"
   ]
  },
  {
   "cell_type": "code",
   "execution_count": 2,
   "id": "73d5dca6",
   "metadata": {},
   "outputs": [],
   "source": [
    "s3_manager = S3Manager()\n",
    "bucket = \"fub-s3\""
   ]
  },
  {
   "cell_type": "markdown",
   "id": "ea281bc7",
   "metadata": {},
   "source": [
    "## 1 - Récupération et préparation des données"
   ]
  },
  {
   "cell_type": "markdown",
   "id": "2e2fa70a",
   "metadata": {},
   "source": [
    "### 1.1 - Clusters en entrée"
   ]
  },
  {
   "cell_type": "code",
   "execution_count": 3,
   "id": "336eebfc",
   "metadata": {},
   "outputs": [],
   "source": [
    "gdf_58 = gpd.read_file(\"temp/cluster_cat_58.geojson\")\n",
    "gdf_60 = gpd.read_file(\"temp/cluster_cat_60.geojson\")"
   ]
  },
  {
   "cell_type": "code",
   "execution_count": 4,
   "id": "e2fa032b",
   "metadata": {},
   "outputs": [
    {
     "name": "stdout",
     "output_type": "stream",
     "text": [
      "EPSG:4326\n"
     ]
    },
    {
     "data": {
      "text/html": [
       "<div>\n",
       "<style scoped>\n",
       "    .dataframe tbody tr th:only-of-type {\n",
       "        vertical-align: middle;\n",
       "    }\n",
       "\n",
       "    .dataframe tbody tr th {\n",
       "        vertical-align: top;\n",
       "    }\n",
       "\n",
       "    .dataframe thead th {\n",
       "        text-align: right;\n",
       "    }\n",
       "</style>\n",
       "<table border=\"1\" class=\"dataframe\">\n",
       "  <thead>\n",
       "    <tr style=\"text-align: right;\">\n",
       "      <th></th>\n",
       "      <th>cluster_id</th>\n",
       "      <th>uid</th>\n",
       "      <th>cat</th>\n",
       "      <th>uid_reponse</th>\n",
       "      <th>description</th>\n",
       "      <th>code_commune</th>\n",
       "      <th>nom_commune</th>\n",
       "      <th>nb_points</th>\n",
       "      <th>total_commune</th>\n",
       "      <th>taux_points</th>\n",
       "      <th>geometry</th>\n",
       "    </tr>\n",
       "  </thead>\n",
       "  <tbody>\n",
       "    <tr>\n",
       "      <th>0</th>\n",
       "      <td>0</td>\n",
       "      <td>261dbaa4-2555-40b2-a627-cb7c0d947172</td>\n",
       "      <td>58</td>\n",
       "      <td>d9bfec3d-fef7-47c9-b949-60964467556f</td>\n",
       "      <td></td>\n",
       "      <td>92049</td>\n",
       "      <td>Montrouge</td>\n",
       "      <td>89</td>\n",
       "      <td>554</td>\n",
       "      <td>16.06</td>\n",
       "      <td>POLYGON ((2.31115 48.8156, 2.31105 48.81604, 2...</td>\n",
       "    </tr>\n",
       "    <tr>\n",
       "      <th>1</th>\n",
       "      <td>1</td>\n",
       "      <td>8489e10a-8434-4d03-8161-a0606c67f44b</td>\n",
       "      <td>58</td>\n",
       "      <td>d9bfec3d-fef7-47c9-b949-60964467556f</td>\n",
       "      <td></td>\n",
       "      <td>92049</td>\n",
       "      <td>Montrouge</td>\n",
       "      <td>109</td>\n",
       "      <td>554</td>\n",
       "      <td>19.68</td>\n",
       "      <td>POLYGON ((2.31914 48.81765, 2.3185 48.8187, 2....</td>\n",
       "    </tr>\n",
       "    <tr>\n",
       "      <th>2</th>\n",
       "      <td>2</td>\n",
       "      <td>8f6e0b77-2819-435e-a910-ceb2905e89ae</td>\n",
       "      <td>58</td>\n",
       "      <td>edf78d17-34e7-4c6a-879b-a3f298e67105</td>\n",
       "      <td>Grand échangeur</td>\n",
       "      <td>69199</td>\n",
       "      <td>Saint-Fons</td>\n",
       "      <td>24</td>\n",
       "      <td>37</td>\n",
       "      <td>64.86</td>\n",
       "      <td>POLYGON ((4.85501 45.71655, 4.85466 45.71659, ...</td>\n",
       "    </tr>\n",
       "  </tbody>\n",
       "</table>\n",
       "</div>"
      ],
      "text/plain": [
       "   cluster_id                                   uid  cat  \\\n",
       "0           0  261dbaa4-2555-40b2-a627-cb7c0d947172   58   \n",
       "1           1  8489e10a-8434-4d03-8161-a0606c67f44b   58   \n",
       "2           2  8f6e0b77-2819-435e-a910-ceb2905e89ae   58   \n",
       "\n",
       "                            uid_reponse      description code_commune  \\\n",
       "0  d9bfec3d-fef7-47c9-b949-60964467556f                         92049   \n",
       "1  d9bfec3d-fef7-47c9-b949-60964467556f                         92049   \n",
       "2  edf78d17-34e7-4c6a-879b-a3f298e67105  Grand échangeur        69199   \n",
       "\n",
       "  nom_commune  nb_points  total_commune  taux_points  \\\n",
       "0   Montrouge         89            554        16.06   \n",
       "1   Montrouge        109            554        19.68   \n",
       "2  Saint-Fons         24             37        64.86   \n",
       "\n",
       "                                            geometry  \n",
       "0  POLYGON ((2.31115 48.8156, 2.31105 48.81604, 2...  \n",
       "1  POLYGON ((2.31914 48.81765, 2.3185 48.8187, 2....  \n",
       "2  POLYGON ((4.85501 45.71655, 4.85466 45.71659, ...  "
      ]
     },
     "execution_count": 4,
     "metadata": {},
     "output_type": "execute_result"
    }
   ],
   "source": [
    "# Infos rapides sur les datasets \n",
    "print(gdf_58.crs if gdf_60.crs == gdf_58.crs else \"Les CRS sont différents uniformiser les données\")\n",
    "gdf_58.head(3)"
   ]
  },
  {
   "cell_type": "markdown",
   "id": "39a697da",
   "metadata": {},
   "source": [
    "### 1.2 - Données d'enrichissement"
   ]
  },
  {
   "cell_type": "code",
   "execution_count": 5,
   "id": "f1d03042",
   "metadata": {},
   "outputs": [
    {
     "name": "stdout",
     "output_type": "stream",
     "text": [
      "✅ Fichier téléchargé depuis S3 : temp/COMMUNICATION_RESTREINTE.fgb\n",
      "✅ Fichier téléchargé depuis S3 : temp/NOEUD_COMMUNE.fgb\n",
      "✅ Fichier téléchargé depuis S3 : temp/NOEUD_ROUTIER.fgb\n",
      "✅ Fichier téléchargé depuis S3 : temp/TRONCON_ROUTE.fgb\n"
     ]
    }
   ],
   "source": [
    "# Téléchargement des fichiers depuis S3\n",
    "s3_manager.download_from_s3(bucket, \"data/DFG/2025/data_geo/externe/3.B.COMMUNICATION_RESTREINTE.fgb\", \"temp/COMMUNICATION_RESTREINTE.fgb\")\n",
    "s3_manager.download_from_s3(bucket, \"data/DFG/2025/data_geo/externe/3.B.NOEUD_COMMUNE.fgb\", \"temp/NOEUD_COMMUNE.fgb\")\n",
    "s3_manager.download_from_s3(bucket, \"data/DFG/2025/data_geo/externe/3.B.NOEUD_ROUTIER.fgb\", \"temp/NOEUD_ROUTIER.fgb\")\n",
    "s3_manager.download_from_s3(bucket, \"data/DFG/2025/data_geo/externe/3.B.TRONCON_ROUTE.fgb\", \"temp/TRONCON_ROUTE.fgb\")"
   ]
  },
  {
   "cell_type": "code",
   "execution_count": 6,
   "id": "d34fea16",
   "metadata": {},
   "outputs": [],
   "source": [
    "# communication_restreinte = gpd.read_file(\"temp/COMMUNICATION_RESTREINTE.fgb\") # ignoré\n",
    "# noeud_commune = gpd.read_file(\"temp/NOEUD_COMMUNE.fgb\") # doublon spatial avec noeud_routier\n",
    "noeud_routier = gpd.read_file(\"temp/NOEUD_ROUTIER.fgb\")\n",
    "troncon_route = gpd.read_file(\"temp/TRONCON_ROUTE.fgb\")"
   ]
  },
  {
   "cell_type": "markdown",
   "id": "7c74d1bd",
   "metadata": {},
   "source": [
    "## 2 - Croisement tronçon routier"
   ]
  },
  {
   "cell_type": "markdown",
   "id": "6b115c69",
   "metadata": {},
   "source": [
    "### 2.1 - Points rouges 58"
   ]
  },
  {
   "cell_type": "markdown",
   "id": "03233f8b",
   "metadata": {},
   "source": [
    "#### 2.1.1 - Statistiques globales "
   ]
  },
  {
   "cell_type": "code",
   "execution_count": 7,
   "id": "c82aaeb6",
   "metadata": {},
   "outputs": [
    {
     "data": {
      "text/plain": [
       "array(['Liaison locale', 'Liaison principale', 'Liaison régionale',\n",
       "       'Bretelle'], dtype=object)"
      ]
     },
     "execution_count": 7,
     "metadata": {},
     "output_type": "execute_result"
    }
   ],
   "source": [
    "# Ignorer les tronçons de type autoroutier\n",
    "troncon_route = troncon_route[troncon_route[\"VOCATION\"] != 'Type autoroutier']\n",
    "troncon_route.VOCATION.unique()"
   ]
  },
  {
   "cell_type": "code",
   "execution_count": 8,
   "id": "d9183189",
   "metadata": {},
   "outputs": [
    {
     "name": "stdout",
     "output_type": "stream",
     "text": [
      "Projections : EPSG:2154\n",
      "gdf_58 : 2554 lignes | troncon_route : 273808 lignes\n"
     ]
    }
   ],
   "source": [
    "gdf_58_2154 = gdf_58.to_crs(epsg=2154).copy()\n",
    "troncon_route_2154 = troncon_route.to_crs(epsg=2154).copy()\n",
    "print(f\"Projections : {gdf_58_2154.crs}\" if gdf_58_2154.crs == gdf_58_2154.crs else \"Les CRS sont différents uniformiser les données\")\n",
    "print(f\"gdf_58 : {gdf_58_2154.shape[0]} lignes | troncon_route : {troncon_route_2154.shape[0]} lignes\")"
   ]
  },
  {
   "cell_type": "code",
   "execution_count": 9,
   "id": "49bd331b",
   "metadata": {},
   "outputs": [],
   "source": [
    "cross_route = gpd.sjoin_nearest(\n",
    "    gdf_58_2154,\n",
    "    troncon_route_2154,\n",
    "    how=\"left\",\n",
    "    max_distance=50,\n",
    "    lsuffix=\"velo\",\n",
    "    rsuffix=\"troncon\",\n",
    "    distance_col=\"dist_m\"\n",
    ")"
   ]
  },
  {
   "cell_type": "code",
   "execution_count": 10,
   "id": "fbae3a79",
   "metadata": {},
   "outputs": [],
   "source": [
    "nb_point_58 = gdf_58.shape[0]\n",
    "cross_58 = cross_route[cross_route[\"index_troncon\"].notnull()].copy()\n",
    "cluster_crossed = float(round(cross_58.drop_duplicates('cluster_id').shape[0] / nb_point_58 * 100, 2))\n",
    "unique_clusters = cross_58.drop_duplicates('cluster_id').shape[0]"
   ]
  },
  {
   "cell_type": "code",
   "execution_count": 11,
   "id": "e0a4807c",
   "metadata": {},
   "outputs": [
    {
     "name": "stdout",
     "output_type": "stream",
     "text": [
      "--------- Résultats ---------\n",
      "- Taille du croisement avec 50m : 6285\n",
      "- 93.74 % des clusters (2394/2554) se situent à moins de 50 mètres d’une voie\n"
     ]
    }
   ],
   "source": [
    "print(\"---\"*3, \"Résultats\", \"---\"*3)\n",
    "print(f\"- Taille du croisement avec 50m : {cross_58.shape[0]}\") \n",
    "print(f\"- {cluster_crossed} % des clusters ({unique_clusters}/{gdf_58_2154.shape[0]}) se situent à moins de 50 mètres d’une voie\")"
   ]
  },
  {
   "cell_type": "markdown",
   "id": "ec57797d",
   "metadata": {},
   "source": [
    "#### 2.1.2 - Caractérisation des jointures"
   ]
  },
  {
   "cell_type": "code",
   "execution_count": 12,
   "id": "7fc18cce",
   "metadata": {},
   "outputs": [
    {
     "data": {
      "text/html": [
       "<div>\n",
       "<style scoped>\n",
       "    .dataframe tbody tr th:only-of-type {\n",
       "        vertical-align: middle;\n",
       "    }\n",
       "\n",
       "    .dataframe tbody tr th {\n",
       "        vertical-align: top;\n",
       "    }\n",
       "\n",
       "    .dataframe thead th {\n",
       "        text-align: right;\n",
       "    }\n",
       "</style>\n",
       "<table border=\"1\" class=\"dataframe\">\n",
       "  <thead>\n",
       "    <tr style=\"text-align: right;\">\n",
       "      <th></th>\n",
       "      <th>VOCATION</th>\n",
       "      <th>counts</th>\n",
       "    </tr>\n",
       "  </thead>\n",
       "  <tbody>\n",
       "    <tr>\n",
       "      <th>3</th>\n",
       "      <td>Liaison régionale</td>\n",
       "      <td>2686</td>\n",
       "    </tr>\n",
       "    <tr>\n",
       "      <th>2</th>\n",
       "      <td>Liaison principale</td>\n",
       "      <td>2234</td>\n",
       "    </tr>\n",
       "    <tr>\n",
       "      <th>1</th>\n",
       "      <td>Liaison locale</td>\n",
       "      <td>1363</td>\n",
       "    </tr>\n",
       "    <tr>\n",
       "      <th>0</th>\n",
       "      <td>Bretelle</td>\n",
       "      <td>2</td>\n",
       "    </tr>\n",
       "  </tbody>\n",
       "</table>\n",
       "</div>"
      ],
      "text/plain": [
       "             VOCATION  counts\n",
       "3   Liaison régionale    2686\n",
       "2  Liaison principale    2234\n",
       "1      Liaison locale    1363\n",
       "0            Bretelle       2"
      ]
     },
     "execution_count": 12,
     "metadata": {},
     "output_type": "execute_result"
    }
   ],
   "source": [
    "c_route = cross_route[cross_route[\"index_troncon\"].notnull()]\n",
    "cross_data_58 = c_route.groupby(\"VOCATION\").size().reset_index(name='counts').sort_values(by='counts', ascending=False)\n",
    "cross_data_58"
   ]
  },
  {
   "cell_type": "code",
   "execution_count": 13,
   "id": "1959e09d",
   "metadata": {},
   "outputs": [
    {
     "data": {
      "text/html": [
       "<div>\n",
       "<style scoped>\n",
       "    .dataframe tbody tr th:only-of-type {\n",
       "        vertical-align: middle;\n",
       "    }\n",
       "\n",
       "    .dataframe tbody tr th {\n",
       "        vertical-align: top;\n",
       "    }\n",
       "\n",
       "    .dataframe thead th {\n",
       "        text-align: right;\n",
       "    }\n",
       "</style>\n",
       "<table border=\"1\" class=\"dataframe\">\n",
       "  <thead>\n",
       "    <tr style=\"text-align: right;\">\n",
       "      <th></th>\n",
       "      <th>NB_VOIES</th>\n",
       "      <th>counts</th>\n",
       "    </tr>\n",
       "  </thead>\n",
       "  <tbody>\n",
       "    <tr>\n",
       "      <th>0</th>\n",
       "      <td>1 voie ou 2 voies étroites</td>\n",
       "      <td>4209</td>\n",
       "    </tr>\n",
       "    <tr>\n",
       "      <th>1</th>\n",
       "      <td>2 voies larges</td>\n",
       "      <td>898</td>\n",
       "    </tr>\n",
       "    <tr>\n",
       "      <th>5</th>\n",
       "      <td>Sans objet</td>\n",
       "      <td>755</td>\n",
       "    </tr>\n",
       "    <tr>\n",
       "      <th>2</th>\n",
       "      <td>3 voies</td>\n",
       "      <td>240</td>\n",
       "    </tr>\n",
       "    <tr>\n",
       "      <th>3</th>\n",
       "      <td>4 voies</td>\n",
       "      <td>174</td>\n",
       "    </tr>\n",
       "    <tr>\n",
       "      <th>4</th>\n",
       "      <td>Plus de 4 voies</td>\n",
       "      <td>9</td>\n",
       "    </tr>\n",
       "  </tbody>\n",
       "</table>\n",
       "</div>"
      ],
      "text/plain": [
       "                     NB_VOIES  counts\n",
       "0  1 voie ou 2 voies étroites    4209\n",
       "1              2 voies larges     898\n",
       "5                  Sans objet     755\n",
       "2                     3 voies     240\n",
       "3                     4 voies     174\n",
       "4             Plus de 4 voies       9"
      ]
     },
     "execution_count": 13,
     "metadata": {},
     "output_type": "execute_result"
    }
   ],
   "source": [
    "cross_data_58_2 = c_route.groupby(\"NB_VOIES\").size().reset_index(name='counts').sort_values(by='counts', ascending=False)\n",
    "cross_data_58_2"
   ]
  },
  {
   "cell_type": "code",
   "execution_count": 14,
   "id": "e3f63d8d",
   "metadata": {},
   "outputs": [
    {
     "data": {
      "image/png": "[encoded data removed]",
      "text/plain": [
       "<Figure size 640x480 with 1 Axes>"
      ]
     },
     "metadata": {},
     "output_type": "display_data"
    }
   ],
   "source": [
    "_ = cross_data_58.plot.bar(\n",
    "    x='VOCATION', y='counts', \n",
    "    legend=False, title=\"Types de voies intersectées par les clusters catégorie 58\"\n",
    ") "
   ]
  },
  {
   "cell_type": "markdown",
   "id": "ee5889a0",
   "metadata": {},
   "source": [
    "### 2.2 - Points verts 60"
   ]
  },
  {
   "cell_type": "code",
   "execution_count": 15,
   "id": "8e9cc738",
   "metadata": {},
   "outputs": [
    {
     "name": "stdout",
     "output_type": "stream",
     "text": [
      "Projections : EPSG:2154\n",
      "gdf_60 : 930 lignes | troncon_route : 273808 lignes\n"
     ]
    }
   ],
   "source": [
    "gdf_60_2154 = gdf_60.to_crs(epsg=2154).copy()\n",
    "troncon_route_2154 = troncon_route.to_crs(epsg=2154).copy()\n",
    "print(f\"Projections : {gdf_60_2154.crs}\" if gdf_60_2154.crs == gdf_60_2154.crs else \"Les CRS sont différents uniformiser les données\")\n",
    "print(f\"gdf_60 : {gdf_60_2154.shape[0]} lignes | troncon_route : {troncon_route_2154.shape[0]} lignes\")"
   ]
  },
  {
   "cell_type": "code",
   "execution_count": 16,
   "id": "10e678be",
   "metadata": {},
   "outputs": [],
   "source": [
    "cross_route_2 = gpd.sjoin_nearest(\n",
    "    gdf_60_2154,\n",
    "    troncon_route_2154,\n",
    "    how=\"left\",\n",
    "    max_distance=50,\n",
    "    lsuffix=\"velo\",\n",
    "    rsuffix=\"troncon\",\n",
    "    distance_col=\"dist_m\"\n",
    ")"
   ]
  },
  {
   "cell_type": "code",
   "execution_count": 17,
   "id": "180a961f",
   "metadata": {},
   "outputs": [],
   "source": [
    "nb_point_60 = gdf_60.shape[0]\n",
    "cross_60 = cross_route_2[cross_route_2[\"index_troncon\"].notnull()].copy()\n",
    "cluster_crossed = float(round(cross_60.drop_duplicates('cluster_id').shape[0] / nb_point_60 * 100, 2))\n",
    "unique_clusters = cross_60.drop_duplicates('cluster_id').shape[0]"
   ]
  },
  {
   "cell_type": "code",
   "execution_count": 18,
   "id": "88302ce3",
   "metadata": {},
   "outputs": [
    {
     "name": "stdout",
     "output_type": "stream",
     "text": [
      "--------- Résultats ---------\n",
      "- Taille du croisement avec 50m : 1569\n",
      "- 85.38 % des clusters (794/930) se situent à moins de 50 mètres d’une voie\n"
     ]
    }
   ],
   "source": [
    "print(\"---\"*3, \"Résultats\", \"---\"*3)\n",
    "print(f\"- Taille du croisement avec 50m : {cross_60.shape[0]}\") \n",
    "print(f\"- {cluster_crossed} % des clusters ({unique_clusters}/{gdf_60_2154.shape[0]}) se situent à moins de 50 mètres d’une voie\")"
   ]
  },
  {
   "cell_type": "code",
   "execution_count": 19,
   "id": "9b2befee",
   "metadata": {},
   "outputs": [
    {
     "data": {
      "text/html": [
       "<div>\n",
       "<style scoped>\n",
       "    .dataframe tbody tr th:only-of-type {\n",
       "        vertical-align: middle;\n",
       "    }\n",
       "\n",
       "    .dataframe tbody tr th {\n",
       "        vertical-align: top;\n",
       "    }\n",
       "\n",
       "    .dataframe thead th {\n",
       "        text-align: right;\n",
       "    }\n",
       "</style>\n",
       "<table border=\"1\" class=\"dataframe\">\n",
       "  <thead>\n",
       "    <tr style=\"text-align: right;\">\n",
       "      <th></th>\n",
       "      <th>VOCATION</th>\n",
       "      <th>counts</th>\n",
       "    </tr>\n",
       "  </thead>\n",
       "  <tbody>\n",
       "    <tr>\n",
       "      <th>2</th>\n",
       "      <td>Liaison régionale</td>\n",
       "      <td>748</td>\n",
       "    </tr>\n",
       "    <tr>\n",
       "      <th>1</th>\n",
       "      <td>Liaison principale</td>\n",
       "      <td>450</td>\n",
       "    </tr>\n",
       "    <tr>\n",
       "      <th>0</th>\n",
       "      <td>Liaison locale</td>\n",
       "      <td>371</td>\n",
       "    </tr>\n",
       "  </tbody>\n",
       "</table>\n",
       "</div>"
      ],
      "text/plain": [
       "             VOCATION  counts\n",
       "2   Liaison régionale     748\n",
       "1  Liaison principale     450\n",
       "0      Liaison locale     371"
      ]
     },
     "execution_count": 19,
     "metadata": {},
     "output_type": "execute_result"
    }
   ],
   "source": [
    "c_route = cross_route_2[cross_route_2[\"index_troncon\"].notnull()]\n",
    "cross_data_60 = c_route.groupby(\"VOCATION\").size().reset_index(name='counts').sort_values(by='counts', ascending=False)\n",
    "cross_data_60"
   ]
  },
  {
   "cell_type": "code",
   "execution_count": 20,
   "id": "d6545a2c",
   "metadata": {},
   "outputs": [
    {
     "data": {
      "text/html": [
       "<div>\n",
       "<style scoped>\n",
       "    .dataframe tbody tr th:only-of-type {\n",
       "        vertical-align: middle;\n",
       "    }\n",
       "\n",
       "    .dataframe tbody tr th {\n",
       "        vertical-align: top;\n",
       "    }\n",
       "\n",
       "    .dataframe thead th {\n",
       "        text-align: right;\n",
       "    }\n",
       "</style>\n",
       "<table border=\"1\" class=\"dataframe\">\n",
       "  <thead>\n",
       "    <tr style=\"text-align: right;\">\n",
       "      <th></th>\n",
       "      <th>NB_VOIES</th>\n",
       "      <th>counts</th>\n",
       "    </tr>\n",
       "  </thead>\n",
       "  <tbody>\n",
       "    <tr>\n",
       "      <th>0</th>\n",
       "      <td>1 voie ou 2 voies étroites</td>\n",
       "      <td>1105</td>\n",
       "    </tr>\n",
       "    <tr>\n",
       "      <th>5</th>\n",
       "      <td>Sans objet</td>\n",
       "      <td>176</td>\n",
       "    </tr>\n",
       "    <tr>\n",
       "      <th>1</th>\n",
       "      <td>2 voies larges</td>\n",
       "      <td>163</td>\n",
       "    </tr>\n",
       "    <tr>\n",
       "      <th>2</th>\n",
       "      <td>3 voies</td>\n",
       "      <td>64</td>\n",
       "    </tr>\n",
       "    <tr>\n",
       "      <th>3</th>\n",
       "      <td>4 voies</td>\n",
       "      <td>58</td>\n",
       "    </tr>\n",
       "    <tr>\n",
       "      <th>4</th>\n",
       "      <td>Plus de 4 voies</td>\n",
       "      <td>3</td>\n",
       "    </tr>\n",
       "  </tbody>\n",
       "</table>\n",
       "</div>"
      ],
      "text/plain": [
       "                     NB_VOIES  counts\n",
       "0  1 voie ou 2 voies étroites    1105\n",
       "5                  Sans objet     176\n",
       "1              2 voies larges     163\n",
       "2                     3 voies      64\n",
       "3                     4 voies      58\n",
       "4             Plus de 4 voies       3"
      ]
     },
     "execution_count": 20,
     "metadata": {},
     "output_type": "execute_result"
    }
   ],
   "source": [
    "cross_data_60_2 = c_route.groupby(\"NB_VOIES\").size().reset_index(name='counts').sort_values(by='counts', ascending=False)\n",
    "cross_data_60_2"
   ]
  },
  {
   "cell_type": "code",
   "execution_count": 21,
   "id": "2d4aa805",
   "metadata": {},
   "outputs": [
    {
     "data": {
      "image/png": "[encoded data removed]",
      "text/plain": [
       "<Figure size 640x480 with 1 Axes>"
      ]
     },
     "metadata": {},
     "output_type": "display_data"
    }
   ],
   "source": [
    "_ = cross_data_60.plot.bar(\n",
    "    x='VOCATION', y='counts', \n",
    "    legend=False, title=\"Types de voies intersectées par les clusters catégorie 60\"\n",
    ") "
   ]
  },
  {
   "cell_type": "markdown",
   "id": "8354a3f3",
   "metadata": {},
   "source": [
    "## 3 - Test statistiques"
   ]
  },
  {
   "cell_type": "code",
   "execution_count": 22,
   "id": "c8a36fde",
   "metadata": {},
   "outputs": [],
   "source": [
    "red = (cross_route[cross_route[\"index_troncon\"].notnull()]\n",
    "       .drop_duplicates(\"cluster_id\")[[\"cluster_id\",\"VOCATION\"]]).copy()\n",
    "green = (cross_route_2[cross_route_2[\"index_troncon\"].notnull()]\n",
    "         .drop_duplicates(\"cluster_id\")[[\"cluster_id\",\"VOCATION\"]]).copy()"
   ]
  },
  {
   "cell_type": "code",
   "execution_count": 23,
   "id": "deb6fbef",
   "metadata": {},
   "outputs": [
    {
     "name": "stdout",
     "output_type": "stream",
     "text": [
      "Table de contingence (clusters à ≤50 m) :\n"
     ]
    },
    {
     "data": {
      "text/html": [
       "<div>\n",
       "<style scoped>\n",
       "    .dataframe tbody tr th:only-of-type {\n",
       "        vertical-align: middle;\n",
       "    }\n",
       "\n",
       "    .dataframe tbody tr th {\n",
       "        vertical-align: top;\n",
       "    }\n",
       "\n",
       "    .dataframe thead th {\n",
       "        text-align: right;\n",
       "    }\n",
       "</style>\n",
       "<table border=\"1\" class=\"dataframe\">\n",
       "  <thead>\n",
       "    <tr style=\"text-align: right;\">\n",
       "      <th>VOCATION</th>\n",
       "      <th>Liaison régionale</th>\n",
       "      <th>Liaison principale</th>\n",
       "      <th>Liaison locale</th>\n",
       "    </tr>\n",
       "  </thead>\n",
       "  <tbody>\n",
       "    <tr>\n",
       "      <th>Rouge</th>\n",
       "      <td>1041</td>\n",
       "      <td>826</td>\n",
       "      <td>527</td>\n",
       "    </tr>\n",
       "    <tr>\n",
       "      <th>Vert</th>\n",
       "      <td>360</td>\n",
       "      <td>248</td>\n",
       "      <td>186</td>\n",
       "    </tr>\n",
       "  </tbody>\n",
       "</table>\n",
       "</div>"
      ],
      "text/plain": [
       "VOCATION  Liaison régionale  Liaison principale  Liaison locale\n",
       "Rouge                  1041                 826             527\n",
       "Vert                    360                 248             186"
      ]
     },
     "execution_count": 23,
     "metadata": {},
     "output_type": "execute_result"
    }
   ],
   "source": [
    "cnt_red = red[\"VOCATION\"].value_counts()\n",
    "cnt_green = green[\"VOCATION\"].value_counts()\n",
    "cont = pd.DataFrame({\"Rouge\": cnt_red, \"Vert\": cnt_green}).T.fillna(0).astype(int)\n",
    "print(\"Table de contingence (clusters à ≤50 m) :\")\n",
    "cont"
   ]
  },
  {
   "cell_type": "code",
   "execution_count": 24,
   "id": "19c17861",
   "metadata": {},
   "outputs": [
    {
     "name": "stdout",
     "output_type": "stream",
     "text": [
      "Chi² global = 2.890 (ddl=2) | p-value = 0.2357\n"
     ]
    }
   ],
   "source": [
    "chi2, p_chi2, dof, expected = chi2_contingency(cont.values)\n",
    "print(f\"Chi² global = {chi2:.3f} (ddl={dof}) | p-value = {p_chi2:.4g}\")"
   ]
  },
  {
   "cell_type": "code",
   "execution_count": 25,
   "id": "22a5fa64",
   "metadata": {},
   "outputs": [
    {
     "name": "stdout",
     "output_type": "stream",
     "text": [
      "V de Cramér = 0.030\n",
      "\n"
     ]
    }
   ],
   "source": [
    "n = cont.values.sum()\n",
    "r, k = cont.shape\n",
    "phi2 = chi2 / n\n",
    "cramers_v = np.sqrt(phi2 / min(k-1, r-1))\n",
    "print(f\"V de Cramér = {cramers_v:.3f}\\n\")"
   ]
  },
  {
   "cell_type": "code",
   "execution_count": 26,
   "id": "1a1f2b80",
   "metadata": {},
   "outputs": [
    {
     "name": "stdout",
     "output_type": "stream",
     "text": [
      "Résiduels standardisés (>|2| ≈ contribution notable) :\n"
     ]
    },
    {
     "data": {
      "text/html": [
       "<div>\n",
       "<style scoped>\n",
       "    .dataframe tbody tr th:only-of-type {\n",
       "        vertical-align: middle;\n",
       "    }\n",
       "\n",
       "    .dataframe tbody tr th {\n",
       "        vertical-align: top;\n",
       "    }\n",
       "\n",
       "    .dataframe thead th {\n",
       "        text-align: right;\n",
       "    }\n",
       "</style>\n",
       "<table border=\"1\" class=\"dataframe\">\n",
       "  <thead>\n",
       "    <tr style=\"text-align: right;\">\n",
       "      <th>VOCATION</th>\n",
       "      <th>Liaison régionale</th>\n",
       "      <th>Liaison principale</th>\n",
       "      <th>Liaison locale</th>\n",
       "    </tr>\n",
       "  </thead>\n",
       "  <tbody>\n",
       "    <tr>\n",
       "      <th>Rouge</th>\n",
       "      <td>-0.341242</td>\n",
       "      <td>0.686265</td>\n",
       "      <td>-0.363926</td>\n",
       "    </tr>\n",
       "    <tr>\n",
       "      <th>Vert</th>\n",
       "      <td>0.592535</td>\n",
       "      <td>-1.191636</td>\n",
       "      <td>0.631925</td>\n",
       "    </tr>\n",
       "  </tbody>\n",
       "</table>\n",
       "</div>"
      ],
      "text/plain": [
       "VOCATION  Liaison régionale  Liaison principale  Liaison locale\n",
       "Rouge             -0.341242            0.686265       -0.363926\n",
       "Vert               0.592535           -1.191636        0.631925"
      ]
     },
     "execution_count": 26,
     "metadata": {},
     "output_type": "execute_result"
    }
   ],
   "source": [
    "std_res = (cont.values - expected) / np.sqrt(expected)\n",
    "res_df = pd.DataFrame(std_res, index=cont.index, columns=cont.columns)\n",
    "print(\"Résiduels standardisés (>|2| ≈ contribution notable) :\")\n",
    "res_df"
   ]
  },
  {
   "cell_type": "code",
   "execution_count": 27,
   "id": "66228eaa",
   "metadata": {},
   "outputs": [],
   "source": [
    "def fisher_on_category(cat, alternative):\n",
    "    a = cont.loc[\"Rouge\", cat]\n",
    "    b = cont.loc[\"Rouge\"].sum() - a\n",
    "    c = cont.loc[\"Vert\", cat]\n",
    "    d = cont.loc[\"Vert\"].sum() - c\n",
    "    odds, p = fisher_exact([[a, b], [c, d]], alternative=alternative)\n",
    "    return odds, p, a, b, c, d"
   ]
  },
  {
   "cell_type": "code",
   "execution_count": 28,
   "id": "bd27f313",
   "metadata": {},
   "outputs": [
    {
     "name": "stdout",
     "output_type": "stream",
     "text": [
      "[Fisher] Part 'régionale' Rouge > Vert : OR=0.928 | p=0.8301 (Rouge: 1041/2394, Vert: 360/794)\n"
     ]
    }
   ],
   "source": [
    "if \"Liaison régionale\" in cont.columns or 3 in cont.columns:\n",
    "    cat_reg = \"Liaison régionale\" if \"Liaison régionale\" in cont.columns else 3\n",
    "    odds_reg, p_reg, a,b,c,d = fisher_on_category(cat_reg, \"greater\")\n",
    "    print(f\"[Fisher] Part 'régionale' Rouge > Vert : OR={odds_reg:.3f} | p={p_reg:.4g} \"\n",
    "          f\"(Rouge: {a}/{a+b}, Vert: {c}/{c+d})\")"
   ]
  },
  {
   "cell_type": "code",
   "execution_count": null,
   "id": "d3c49452",
   "metadata": {},
   "outputs": [
    {
     "name": "stdout",
     "output_type": "stream",
     "text": [
      "[Fisher] Part 'locale' Rouge < Vert : OR=0.923 | p=0.2176 (Rouge: 527/2394, Vert: 186/794)\n"
     ]
    }
   ],
   "source": [
    "if \"Liaison locale\" in cont.columns or 1 in cont.columns:\n",
    "    cat_loc = \"Liaison locale\" if \"Liaison locale\" in cont.columns else 1\n",
    "    odds_loc, p_loc, a,b,c,d = fisher_on_category(cat_loc, \"less\")\n",
    "    print(f\"[Fisher] Part 'locale' Rouge < Vert : OR={odds_loc:.3f} | p={p_loc:.4g} \"\n",
    "          f\"(Rouge: {a}/{a+b}, Vert: {c}/{c+d})\")"
   ]
  },
  {
   "cell_type": "markdown",
   "id": "3fc12afa",
   "metadata": {},
   "source": [
    "## Conclusion"
   ]
  },
  {
   "cell_type": "markdown",
   "id": "d3b30de6",
   "metadata": {},
   "source": [
    "Les analyses montrent que les clusters rouges (zones à risque) comme les clusters verts (zones aménagées) sont très majoritairement situés à proximité immédiate du réseau routier :\n",
    "- 93,7 % des clusters rouges et 85,4 % des clusters verts se trouvent à moins de 50 mètres d’une voie.\n",
    "\n",
    "Cependant, les tests statistiques ne confirment pas que les clusters rouges soient significativement plus associés aux axes régionaux/nationaux que les clusters verts :\n",
    "- La distribution des types de liaisons (régionales, principales, locales) est globalement similaire entre les deux catégories.\n",
    "\n",
    "De même, la largeur des voies (1-2 voies étroites, 3-4 voies, >4 voies) ne révèle pas d’écart significatif : la majorité des intersections pour les deux types concerne des routes étroites à deux voies, avec une part plus faible mais comparable sur des infrastructures plus larges."
   ]
  }
 ],
 "metadata": {
  "kernelspec": {
   "display_name": "env",
   "language": "python",
   "name": "python3"
  },
  "language_info": {
   "codemirror_mode": {
    "name": "ipython",
    "version": 3
   },
   "file_extension": ".py",
   "mimetype": "text/x-python",
   "name": "python",
   "nbconvert_exporter": "python",
   "pygments_lexer": "ipython3",
   "version": "3.10.16"
  }
 },
 "nbformat": 4,
 "nbformat_minor": 5
}
