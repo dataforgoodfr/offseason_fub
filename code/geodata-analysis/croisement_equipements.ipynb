{
 "cells": [
  {
   "cell_type": "markdown",
   "id": "811de24a",
   "metadata": {},
   "source": [
    "# Thème 4 – Le vélo au service des espaces du quotidien\n",
    "**Analyse carto :** Croisement base d’équipement INSEE et point rouge baromètre \n",
    "- Identifier le % de point rouge à – de 50 m d’un établissement d’enseignement, de santé et de commerces  \n",
    "\n",
    "> L’accessibilité aux communes pourvoyeuses de services et d’équipements est encore trop complexe en France \n"
   ]
  },
  {
   "cell_type": "markdown",
   "id": "ea2c644d",
   "metadata": {},
   "source": [
    "## Python stuff"
   ]
  },
  {
   "cell_type": "code",
   "execution_count": 34,
   "id": "19cfee20",
   "metadata": {},
   "outputs": [],
   "source": [
    "import pandas as pd\n",
    "import geopandas as gpd\n",
    "from s3_utils import S3Manager\n",
    "import matplotlib.pyplot as plt\n",
    "from scipy.stats import fisher_exact\n",
    "\n",
    "_ = plt.style.use(\"ggplot\")"
   ]
  },
  {
   "cell_type": "code",
   "execution_count": 35,
   "id": "cfca9219",
   "metadata": {},
   "outputs": [],
   "source": [
    "# Chargement des éléments de connexion sur S3\n",
    "s3_manager = S3Manager()\n",
    "bucket = \"fub-s3\""
   ]
  },
  {
   "cell_type": "markdown",
   "id": "63384e93",
   "metadata": {},
   "source": [
    "## 1 - Récupération et préparation des données"
   ]
  },
  {
   "cell_type": "code",
   "execution_count": 36,
   "id": "0159c9e7",
   "metadata": {},
   "outputs": [
    {
     "name": "stdout",
     "output_type": "stream",
     "text": [
      "✅ Fichier chargé et converti en GeoDataFrame avec succès\n",
      "EPSG:4326\n"
     ]
    },
    {
     "data": {
      "text/html": [
       "<div>\n",
       "<style scoped>\n",
       "    .dataframe tbody tr th:only-of-type {\n",
       "        vertical-align: middle;\n",
       "    }\n",
       "\n",
       "    .dataframe tbody tr th {\n",
       "        vertical-align: top;\n",
       "    }\n",
       "\n",
       "    .dataframe thead th {\n",
       "        text-align: right;\n",
       "    }\n",
       "</style>\n",
       "<table border=\"1\" class=\"dataframe\">\n",
       "  <thead>\n",
       "    <tr style=\"text-align: right;\">\n",
       "      <th></th>\n",
       "      <th>uid</th>\n",
       "      <th>cat</th>\n",
       "      <th>uid_reponse</th>\n",
       "      <th>description</th>\n",
       "      <th>geometry</th>\n",
       "    </tr>\n",
       "  </thead>\n",
       "  <tbody>\n",
       "    <tr>\n",
       "      <th>0</th>\n",
       "      <td>dd441ba7-d3a7-490e-8cfe-1d34e4a09311</td>\n",
       "      <td>58</td>\n",
       "      <td>ffde2d2e-fa32-4bbb-a7f2-f94300dfb19d</td>\n",
       "      <td>Route trop étroite et dangereuse</td>\n",
       "      <td>POINT (4.47109 47.1244)</td>\n",
       "    </tr>\n",
       "    <tr>\n",
       "      <th>1</th>\n",
       "      <td>63ef8e40-8be8-4362-b9ea-5b38a0347ef3</td>\n",
       "      <td>59</td>\n",
       "      <td>ffde2d2e-fa32-4bbb-a7f2-f94300dfb19d</td>\n",
       "      <td>Maison de santé</td>\n",
       "      <td>POINT (4.48483 47.13117)</td>\n",
       "    </tr>\n",
       "  </tbody>\n",
       "</table>\n",
       "</div>"
      ],
      "text/plain": [
       "                                    uid  cat  \\\n",
       "0  dd441ba7-d3a7-490e-8cfe-1d34e4a09311   58   \n",
       "1  63ef8e40-8be8-4362-b9ea-5b38a0347ef3   59   \n",
       "\n",
       "                            uid_reponse                       description  \\\n",
       "0  ffde2d2e-fa32-4bbb-a7f2-f94300dfb19d  Route trop étroite et dangereuse   \n",
       "1  ffde2d2e-fa32-4bbb-a7f2-f94300dfb19d                  Maison de santé    \n",
       "\n",
       "                   geometry  \n",
       "0   POINT (4.47109 47.1244)  \n",
       "1  POINT (4.48483 47.13117)  "
      ]
     },
     "execution_count": 36,
     "metadata": {},
     "output_type": "execute_result"
    }
   ],
   "source": [
    "# Import des données sources\n",
    "gdf = s3_manager.load_geojson_from_s3(bucket, \"data/DFG/2025/data_geo/données-carto-2025-06-03.geojson\")\n",
    "print(gdf.crs)\n",
    "gdf.head(2)"
   ]
  },
  {
   "cell_type": "code",
   "execution_count": 37,
   "id": "a66a493a",
   "metadata": {},
   "outputs": [],
   "source": [
    "url_contour_france = \"https://france-geojson.gregoiredavid.fr/repo/departements.geojson\"\n",
    "contour_france = gpd.read_file(url_contour_france)"
   ]
  },
  {
   "cell_type": "code",
   "execution_count": 38,
   "id": "eb6b70ac",
   "metadata": {},
   "outputs": [],
   "source": [
    "gdf = gdf.to_crs(contour_france.crs)\n",
    "gdf_filtre = gpd.sjoin(gdf, contour_france, predicate=\"within\", how=\"inner\")\n",
    "gdf_filtre = gdf_filtre.drop(columns=[\"index_right\"])"
   ]
  },
  {
   "cell_type": "code",
   "execution_count": 39,
   "id": "a5bef0e4",
   "metadata": {},
   "outputs": [
    {
     "name": "stdout",
     "output_type": "stream",
     "text": [
      "✅ Fichier téléchargé depuis S3 : temp/buildingref-france-bpe-all-geolocated.fgb\n",
      "EPSG:4326\n"
     ]
    },
    {
     "data": {
      "text/html": [
       "<div>\n",
       "<style scoped>\n",
       "    .dataframe tbody tr th:only-of-type {\n",
       "        vertical-align: middle;\n",
       "    }\n",
       "\n",
       "    .dataframe tbody tr th {\n",
       "        vertical-align: top;\n",
       "    }\n",
       "\n",
       "    .dataframe thead th {\n",
       "        text-align: right;\n",
       "    }\n",
       "</style>\n",
       "<table border=\"1\" class=\"dataframe\">\n",
       "  <thead>\n",
       "    <tr style=\"text-align: right;\">\n",
       "      <th></th>\n",
       "      <th>reg_code</th>\n",
       "      <th>dep_code</th>\n",
       "      <th>com_arm_code</th>\n",
       "      <th>iris_code</th>\n",
       "      <th>year</th>\n",
       "      <th>equipment_code</th>\n",
       "      <th>geocode_quality</th>\n",
       "      <th>equipment_name</th>\n",
       "      <th>category</th>\n",
       "      <th>reg_name</th>\n",
       "      <th>dep_name</th>\n",
       "      <th>epci_name</th>\n",
       "      <th>com_arm_name</th>\n",
       "      <th>com_arm_area_code</th>\n",
       "      <th>epci_code</th>\n",
       "      <th>geometry</th>\n",
       "    </tr>\n",
       "  </thead>\n",
       "  <tbody>\n",
       "    <tr>\n",
       "      <th>0</th>\n",
       "      <td>93</td>\n",
       "      <td>13</td>\n",
       "      <td>13026</td>\n",
       "      <td>130260104</td>\n",
       "      <td>NaT</td>\n",
       "      <td>D603</td>\n",
       "      <td>Acceptable</td>\n",
       "      <td>ADULTES HANDICAPÉS : ACCUEIL/HÉBERGEMENT</td>\n",
       "      <td>Santé</td>\n",
       "      <td>Provence-Alpes-Côte d'Azur</td>\n",
       "      <td>Bouches-du-Rhône</td>\n",
       "      <td>Métropole d'Aix-Marseille-Provence</td>\n",
       "      <td>Châteauneuf-les-Martigues</td>\n",
       "      <td>FXX</td>\n",
       "      <td>200054807</td>\n",
       "      <td>POINT (5.14153 43.39474)</td>\n",
       "    </tr>\n",
       "    <tr>\n",
       "      <th>1</th>\n",
       "      <td>93</td>\n",
       "      <td>83</td>\n",
       "      <td>83049</td>\n",
       "      <td>830490102</td>\n",
       "      <td>NaT</td>\n",
       "      <td>D603</td>\n",
       "      <td>Bonne</td>\n",
       "      <td>ADULTES HANDICAPÉS : ACCUEIL/HÉBERGEMENT</td>\n",
       "      <td>Santé</td>\n",
       "      <td>Provence-Alpes-Côte d'Azur</td>\n",
       "      <td>Var</td>\n",
       "      <td>CC Méditerranée Porte des Maures</td>\n",
       "      <td>Cuers</td>\n",
       "      <td>FXX</td>\n",
       "      <td>200027100</td>\n",
       "      <td>POINT (6.08587 43.25823)</td>\n",
       "    </tr>\n",
       "  </tbody>\n",
       "</table>\n",
       "</div>"
      ],
      "text/plain": [
       "  reg_code dep_code com_arm_code  iris_code year equipment_code  \\\n",
       "0       93       13        13026  130260104  NaT           D603   \n",
       "1       93       83        83049  830490102  NaT           D603   \n",
       "\n",
       "  geocode_quality                            equipment_name category  \\\n",
       "0      Acceptable  ADULTES HANDICAPÉS : ACCUEIL/HÉBERGEMENT    Santé   \n",
       "1           Bonne  ADULTES HANDICAPÉS : ACCUEIL/HÉBERGEMENT    Santé   \n",
       "\n",
       "                     reg_name          dep_name  \\\n",
       "0  Provence-Alpes-Côte d'Azur  Bouches-du-Rhône   \n",
       "1  Provence-Alpes-Côte d'Azur               Var   \n",
       "\n",
       "                            epci_name               com_arm_name  \\\n",
       "0  Métropole d'Aix-Marseille-Provence  Châteauneuf-les-Martigues   \n",
       "1    CC Méditerranée Porte des Maures                      Cuers   \n",
       "\n",
       "  com_arm_area_code  epci_code                  geometry  \n",
       "0               FXX  200054807  POINT (5.14153 43.39474)  \n",
       "1               FXX  200027100  POINT (6.08587 43.25823)  "
      ]
     },
     "execution_count": 39,
     "metadata": {},
     "output_type": "execute_result"
    }
   ],
   "source": [
    "# Import des données d'enrichissements depuis S3\n",
    "s3_manager.download_from_s3(\n",
    "    bucket, \n",
    "    \"data/DFG/2025/data_geo/externe/4C-buildingref-france-bpe-all-geolocated.fgb\", \n",
    "    \"temp/buildingref-france-bpe-all-geolocated.fgb\"\n",
    ")\n",
    "equipements = gpd.read_file(\"temp/buildingref-france-bpe-all-geolocated.fgb\")\n",
    "print(equipements.crs)\n",
    "equipements.head(2)"
   ]
  },
  {
   "cell_type": "code",
   "execution_count": 40,
   "id": "f97bbe12",
   "metadata": {},
   "outputs": [],
   "source": [
    "url_contour_france = \"https://france-geojson.gregoiredavid.fr/repo/departements.geojson\"\n",
    "contour_france = gpd.read_file(url_contour_france)"
   ]
  },
  {
   "cell_type": "code",
   "execution_count": 41,
   "id": "44f4471b",
   "metadata": {},
   "outputs": [],
   "source": [
    "equipements = equipements.to_crs(contour_france.crs)\n",
    "equipements = gpd.sjoin(equipements, contour_france, predicate=\"within\", how=\"inner\")\n",
    "equipements = equipements.drop(columns=[\"index_right\", \"code\", \"nom\"])"
   ]
  },
  {
   "cell_type": "code",
   "execution_count": 50,
   "id": "c88b5b65",
   "metadata": {},
   "outputs": [],
   "source": [
    "equipements = equipements[[\n",
    "    'equipment_name', 'category', 'com_arm_name', 'geometry'\n",
    "]].copy()"
   ]
  },
  {
   "cell_type": "code",
   "execution_count": 84,
   "id": "bf0fc535",
   "metadata": {},
   "outputs": [
    {
     "data": {
      "text/html": [
       "<div>\n",
       "<style scoped>\n",
       "    .dataframe tbody tr th:only-of-type {\n",
       "        vertical-align: middle;\n",
       "    }\n",
       "\n",
       "    .dataframe tbody tr th {\n",
       "        vertical-align: top;\n",
       "    }\n",
       "\n",
       "    .dataframe thead th {\n",
       "        text-align: right;\n",
       "    }\n",
       "</style>\n",
       "<table border=\"1\" class=\"dataframe\">\n",
       "  <thead>\n",
       "    <tr style=\"text-align: right;\">\n",
       "      <th></th>\n",
       "      <th>com_arm_name</th>\n",
       "      <th>Nombre d'équipement</th>\n",
       "    </tr>\n",
       "  </thead>\n",
       "  <tbody>\n",
       "    <tr>\n",
       "      <th>21405</th>\n",
       "      <td>Toulouse</td>\n",
       "      <td>6074</td>\n",
       "    </tr>\n",
       "    <tr>\n",
       "      <th>14425</th>\n",
       "      <td>Nice</td>\n",
       "      <td>5301</td>\n",
       "    </tr>\n",
       "    <tr>\n",
       "      <th>2523</th>\n",
       "      <td>Bordeaux</td>\n",
       "      <td>4082</td>\n",
       "    </tr>\n",
       "    <tr>\n",
       "      <th>13665</th>\n",
       "      <td>Montpellier</td>\n",
       "      <td>3853</td>\n",
       "    </tr>\n",
       "    <tr>\n",
       "      <th>20856</th>\n",
       "      <td>Strasbourg</td>\n",
       "      <td>3495</td>\n",
       "    </tr>\n",
       "    <tr>\n",
       "      <th>14229</th>\n",
       "      <td>Nantes</td>\n",
       "      <td>3467</td>\n",
       "    </tr>\n",
       "    <tr>\n",
       "      <th>15172</th>\n",
       "      <td>Paris 15e Arrondissement</td>\n",
       "      <td>3161</td>\n",
       "    </tr>\n",
       "    <tr>\n",
       "      <th>15173</th>\n",
       "      <td>Paris 16e Arrondissement</td>\n",
       "      <td>2966</td>\n",
       "    </tr>\n",
       "    <tr>\n",
       "      <th>11556</th>\n",
       "      <td>Lille</td>\n",
       "      <td>2957</td>\n",
       "    </tr>\n",
       "    <tr>\n",
       "      <th>15174</th>\n",
       "      <td>Paris 17e Arrondissement</td>\n",
       "      <td>2793</td>\n",
       "    </tr>\n",
       "  </tbody>\n",
       "</table>\n",
       "</div>"
      ],
      "text/plain": [
       "                   com_arm_name  Nombre d'équipement\n",
       "21405                  Toulouse                 6074\n",
       "14425                      Nice                 5301\n",
       "2523                   Bordeaux                 4082\n",
       "13665               Montpellier                 3853\n",
       "20856                Strasbourg                 3495\n",
       "14229                    Nantes                 3467\n",
       "15172  Paris 15e Arrondissement                 3161\n",
       "15173  Paris 16e Arrondissement                 2966\n",
       "11556                     Lille                 2957\n",
       "15174  Paris 17e Arrondissement                 2793"
      ]
     },
     "execution_count": 84,
     "metadata": {},
     "output_type": "execute_result"
    }
   ],
   "source": [
    "equipements.groupby('com_arm_name').size().reset_index(name=\"Nombre d'équipement\").sort_values(by=\"Nombre d'équipement\", ascending=False).head(10)"
   ]
  },
  {
   "cell_type": "markdown",
   "id": "b55ac2b7",
   "metadata": {},
   "source": [
    "## 2 - Identifier le % de point rouge à – de 50 m d’un établissement d’enseignement, de santé et de commerces"
   ]
  },
  {
   "cell_type": "markdown",
   "id": "fb334795",
   "metadata": {},
   "source": [
    "### 2.1 - Statistique"
   ]
  },
  {
   "cell_type": "code",
   "execution_count": 51,
   "id": "e1a70757",
   "metadata": {},
   "outputs": [],
   "source": [
    "# Reprojection spatiale\n",
    "gdf_2154 = gdf_filtre.to_crs(2154)\n",
    "equipements_2154 = equipements.to_crs(2154)"
   ]
  },
  {
   "cell_type": "code",
   "execution_count": 52,
   "id": "5cb7ba48",
   "metadata": {},
   "outputs": [],
   "source": [
    "prox_equip = gpd.sjoin_nearest(\n",
    "    gdf_2154,\n",
    "    equipements_2154,\n",
    "    how=\"left\",\n",
    "    max_distance=50,\n",
    "    lsuffix=\"velo\",\n",
    "    rsuffix=\"equipement\",\n",
    "    distance_col=\"dist_m\"\n",
    ")\n",
    "prox_equip_e = prox_equip.copy()"
   ]
  },
  {
   "cell_type": "code",
   "execution_count": 78,
   "id": "76df6087",
   "metadata": {},
   "outputs": [
    {
     "name": "stdout",
     "output_type": "stream",
     "text": [
      "Nombre de point rouge : 578073\n",
      "Nombre de point rouge à moins de 50m d'un équipement : 248273\n",
      "Pourcentage de point rouge à moins de 50m d'un équipement : 42.95%\n"
     ]
    }
   ],
   "source": [
    "print(f\"Nombre de point rouge : {gdf_2154[gdf_2154['cat'] == 58].shape[0]}\")\n",
    "prox_58 = prox_equip_e.loc[\n",
    "        (prox_equip_e[\"cat\"] == 58) &\n",
    "        prox_equip_e[\"index_equipement\"].notnull()\n",
    "].shape[0]\n",
    "print(f\"Nombre de point rouge à moins de 50m d'un équipement : {prox_58}\")\n",
    "pct_points_couverts = 100 * prox_58 / gdf_2154[gdf_2154['cat'] == 58].shape[0]\n",
    "print(f\"Pourcentage de point rouge à moins de 50m d'un équipement : {pct_points_couverts:.2f}%\")"
   ]
  },
  {
   "cell_type": "markdown",
   "id": "e19d1818",
   "metadata": {},
   "source": [
    "### 2.2 - Test d'hypothèse"
   ]
  },
  {
   "cell_type": "code",
   "execution_count": 69,
   "id": "a31e1f25",
   "metadata": {},
   "outputs": [],
   "source": [
    "n58_total     = gdf_2154[gdf_2154[\"cat\"] == 58].shape[0]\n",
    "n58_covered   = prox_equip_e.loc[\n",
    "                  (prox_equip_e[\"cat\"] == 58) &\n",
    "                  prox_equip_e[\"index_equipement\"].notnull()\n",
    "               ].shape[0]\n",
    "n58_notcov    = n58_total - n58_covered"
   ]
  },
  {
   "cell_type": "code",
   "execution_count": 70,
   "id": "a479a707",
   "metadata": {},
   "outputs": [],
   "source": [
    "nrest_total   = gdf_2154[gdf_2154[\"cat\"] != 58].shape[0]\n",
    "nrest_covered = prox_equip_e.loc[\n",
    "                  (prox_equip_e[\"cat\"] != 58) &\n",
    "                  prox_equip_e[\"index_equipement\"].notnull()\n",
    "               ].shape[0]\n",
    "nrest_notcov  = nrest_total - nrest_covered"
   ]
  },
  {
   "cell_type": "code",
   "execution_count": 71,
   "id": "41925986",
   "metadata": {},
   "outputs": [],
   "source": [
    "table = [[n58_covered,   n58_notcov],\n",
    "         [nrest_covered, nrest_notcov]]"
   ]
  },
  {
   "cell_type": "code",
   "execution_count": 72,
   "id": "60d59cde",
   "metadata": {},
   "outputs": [
    {
     "name": "stdout",
     "output_type": "stream",
     "text": [
      "[[248273, 329800], [287259, 241775]]\n",
      "Odds-ratio : 0.634\n",
      "p-value    : 0\n"
     ]
    }
   ],
   "source": [
    "odds, p = fisher_exact(table, alternative=\"two-sided\")\n",
    "print(table)\n",
    "print(f\"Odds-ratio : {odds:.3f}\")\n",
    "print(f\"p-value    : {p:.4g}\")"
   ]
  },
  {
   "cell_type": "markdown",
   "id": "6ccec132",
   "metadata": {},
   "source": [
    "## 3 - Conclusion"
   ]
  },
  {
   "cell_type": "markdown",
   "id": "ee45b80e",
   "metadata": {},
   "source": [
    "L’analyse spatiale révèle que seuls 42,95 % des points rouges (lieux problématiques identifiés par le baromètre vélo) se situent à moins de 50 m d’un établissement d’enseignement, de santé ou de commerce, contre une proportion significativement plus élevée pour les autres points (test exact de Fisher, OR = 0,63, p < 0,001).\n",
    "Ces résultats montrent que les zones jugées les plus problématiques pour les cyclistes se trouvent, en moyenne, plus éloignées des services et équipements du quotidien."
   ]
  },
  {
   "cell_type": "markdown",
   "id": "d75320cb",
   "metadata": {},
   "source": [
    "-- END --"
   ]
  }
 ],
 "metadata": {
  "kernelspec": {
   "display_name": "env",
   "language": "python",
   "name": "python3"
  },
  "language_info": {
   "codemirror_mode": {
    "name": "ipython",
    "version": 3
   },
   "file_extension": ".py",
   "mimetype": "text/x-python",
   "name": "python",
   "nbconvert_exporter": "python",
   "pygments_lexer": "ipython3",
   "version": "3.10.16"
  }
 },
 "nbformat": 4,
 "nbformat_minor": 5
}
