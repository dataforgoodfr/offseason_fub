{
 "cells": [
  {
   "cell_type": "markdown",
   "id": "b8189551",
   "metadata": {},
   "source": [
    "# Thème 4 : Le vélo au service des espaces du quotidien\n",
    "**Analyse carto :** Concentration points bleu x fréquentation et localisation des principales gares de France  \n",
    "- Identifier la concentration des besoins en stationnement à moins de 100 mètres des gares de france\n",
    "\n",
    "> Hypothèse : Un nombre important de cyclistes identifie la gare comme un lieu important à aménager. <br/>\n",
    "> Le besoin d’adapter les gares au vélo est toujours aussi pressant, notamment dans le cadre des projets de SERM"
   ]
  },
  {
   "cell_type": "markdown",
   "id": "e38d7986",
   "metadata": {},
   "source": [
    "## Python stuff"
   ]
  },
  {
   "cell_type": "code",
   "execution_count": 1,
   "id": "fcc24d11",
   "metadata": {},
   "outputs": [],
   "source": [
    "import pandas as pd\n",
    "import geopandas as gpd\n",
    "from s3_utils import S3Manager\n",
    "import matplotlib.pyplot as plt\n",
    "from scipy.stats import fisher_exact\n",
    "\n",
    "_ = plt.style.use(\"ggplot\")"
   ]
  },
  {
   "cell_type": "code",
   "execution_count": 2,
   "id": "2a086b35",
   "metadata": {},
   "outputs": [],
   "source": [
    "# Chargement des éléments de connexion sur S3\n",
    "s3_manager = S3Manager()\n",
    "bucket = \"fub-s3\""
   ]
  },
  {
   "cell_type": "markdown",
   "id": "08b71f0b",
   "metadata": {},
   "source": [
    "## 1 - Récupération des données "
   ]
  },
  {
   "cell_type": "code",
   "execution_count": 3,
   "id": "7e4b26b7",
   "metadata": {},
   "outputs": [
    {
     "name": "stdout",
     "output_type": "stream",
     "text": [
      "✅ Fichier chargé et converti en GeoDataFrame avec succès\n",
      "EPSG:4326\n"
     ]
    },
    {
     "data": {
      "text/html": [
       "<div>\n",
       "<style scoped>\n",
       "    .dataframe tbody tr th:only-of-type {\n",
       "        vertical-align: middle;\n",
       "    }\n",
       "\n",
       "    .dataframe tbody tr th {\n",
       "        vertical-align: top;\n",
       "    }\n",
       "\n",
       "    .dataframe thead th {\n",
       "        text-align: right;\n",
       "    }\n",
       "</style>\n",
       "<table border=\"1\" class=\"dataframe\">\n",
       "  <thead>\n",
       "    <tr style=\"text-align: right;\">\n",
       "      <th></th>\n",
       "      <th>uid</th>\n",
       "      <th>cat</th>\n",
       "      <th>uid_reponse</th>\n",
       "      <th>description</th>\n",
       "      <th>geometry</th>\n",
       "    </tr>\n",
       "  </thead>\n",
       "  <tbody>\n",
       "    <tr>\n",
       "      <th>0</th>\n",
       "      <td>dd441ba7-d3a7-490e-8cfe-1d34e4a09311</td>\n",
       "      <td>58</td>\n",
       "      <td>ffde2d2e-fa32-4bbb-a7f2-f94300dfb19d</td>\n",
       "      <td>Route trop étroite et dangereuse</td>\n",
       "      <td>POINT (4.47109 47.1244)</td>\n",
       "    </tr>\n",
       "    <tr>\n",
       "      <th>1</th>\n",
       "      <td>63ef8e40-8be8-4362-b9ea-5b38a0347ef3</td>\n",
       "      <td>59</td>\n",
       "      <td>ffde2d2e-fa32-4bbb-a7f2-f94300dfb19d</td>\n",
       "      <td>Maison de santé</td>\n",
       "      <td>POINT (4.48483 47.13117)</td>\n",
       "    </tr>\n",
       "  </tbody>\n",
       "</table>\n",
       "</div>"
      ],
      "text/plain": [
       "                                    uid  cat  \\\n",
       "0  dd441ba7-d3a7-490e-8cfe-1d34e4a09311   58   \n",
       "1  63ef8e40-8be8-4362-b9ea-5b38a0347ef3   59   \n",
       "\n",
       "                            uid_reponse                       description  \\\n",
       "0  ffde2d2e-fa32-4bbb-a7f2-f94300dfb19d  Route trop étroite et dangereuse   \n",
       "1  ffde2d2e-fa32-4bbb-a7f2-f94300dfb19d                  Maison de santé    \n",
       "\n",
       "                   geometry  \n",
       "0   POINT (4.47109 47.1244)  \n",
       "1  POINT (4.48483 47.13117)  "
      ]
     },
     "execution_count": 3,
     "metadata": {},
     "output_type": "execute_result"
    }
   ],
   "source": [
    "# Import des données sources\n",
    "gdf = s3_manager.load_geojson_from_s3(bucket, \"data/DFG/2025/data_geo/données-carto-2025-06-03.geojson\")\n",
    "print(gdf.crs)\n",
    "gdf.head(2)"
   ]
  },
  {
   "cell_type": "code",
   "execution_count": 4,
   "id": "3bacda5b",
   "metadata": {},
   "outputs": [],
   "source": [
    "url_contour_france = \"https://france-geojson.gregoiredavid.fr/repo/departements.geojson\"\n",
    "contour_france = gpd.read_file(url_contour_france)"
   ]
  },
  {
   "cell_type": "code",
   "execution_count": 5,
   "id": "1dcf1d44",
   "metadata": {},
   "outputs": [],
   "source": [
    "gdf = gdf.to_crs(contour_france.crs)\n",
    "gdf_filtre = gpd.sjoin(gdf, contour_france, predicate=\"within\", how=\"inner\")\n",
    "gdf_filtre = gdf_filtre.drop(columns=[\"index_right\"])"
   ]
  },
  {
   "cell_type": "code",
   "execution_count": 6,
   "id": "a8f70131",
   "metadata": {},
   "outputs": [
    {
     "name": "stdout",
     "output_type": "stream",
     "text": [
      "✅ Fichier chargé et converti en GeoDataFrame avec succès\n",
      "(3884, 18)\n",
      "EPSG:4326\n"
     ]
    },
    {
     "data": {
      "text/html": [
       "<div>\n",
       "<style scoped>\n",
       "    .dataframe tbody tr th:only-of-type {\n",
       "        vertical-align: middle;\n",
       "    }\n",
       "\n",
       "    .dataframe tbody tr th {\n",
       "        vertical-align: top;\n",
       "    }\n",
       "\n",
       "    .dataframe thead th {\n",
       "        text-align: right;\n",
       "    }\n",
       "</style>\n",
       "<table border=\"1\" class=\"dataframe\">\n",
       "  <thead>\n",
       "    <tr style=\"text-align: right;\">\n",
       "      <th></th>\n",
       "      <th>code_uic</th>\n",
       "      <th>libelle</th>\n",
       "      <th>fret</th>\n",
       "      <th>voyageurs</th>\n",
       "      <th>code_ligne</th>\n",
       "      <th>rg_troncon</th>\n",
       "      <th>pk</th>\n",
       "      <th>commune</th>\n",
       "      <th>departemen</th>\n",
       "      <th>idreseau</th>\n",
       "      <th>idgaia</th>\n",
       "      <th>x_l93</th>\n",
       "      <th>y_l93</th>\n",
       "      <th>x_wgs84</th>\n",
       "      <th>y_wgs84</th>\n",
       "      <th>c_geo</th>\n",
       "      <th>geo_point_2d</th>\n",
       "      <th>geometry</th>\n",
       "    </tr>\n",
       "  </thead>\n",
       "  <tbody>\n",
       "    <tr>\n",
       "      <th>0</th>\n",
       "      <td>87009696</td>\n",
       "      <td>La Douzillère</td>\n",
       "      <td>N</td>\n",
       "      <td>O</td>\n",
       "      <td>594000</td>\n",
       "      <td>1</td>\n",
       "      <td>244+100</td>\n",
       "      <td>JOUE-LES-TOURS</td>\n",
       "      <td>INDRE-ET-LOIRE</td>\n",
       "      <td>4650</td>\n",
       "      <td>d9dc0092-6667-11e3-89ff-01f464e0362d</td>\n",
       "      <td>522803.9864</td>\n",
       "      <td>6.695782e+06</td>\n",
       "      <td>0.653001</td>\n",
       "      <td>47.338661</td>\n",
       "      <td>{ \"lon\": 0.6530013866824887, \"lat\": 47.3386614...</td>\n",
       "      <td>{ \"lon\": 0.6530013866824868, \"lat\": 47.3386614...</td>\n",
       "      <td>POINT (0.653 47.33866)</td>\n",
       "    </tr>\n",
       "    <tr>\n",
       "      <th>1</th>\n",
       "      <td>87142554</td>\n",
       "      <td>Châtillon-sur-Seine</td>\n",
       "      <td>O</td>\n",
       "      <td>N</td>\n",
       "      <td>839000</td>\n",
       "      <td>1</td>\n",
       "      <td>035+431</td>\n",
       "      <td>SAINTE-COLOMBE-SUR-SEINE</td>\n",
       "      <td>COTE-D'OR</td>\n",
       "      <td>9201</td>\n",
       "      <td>29d3de32-dfbc-11e3-a2ff-01a464e0362d</td>\n",
       "      <td>815990.5833</td>\n",
       "      <td>6.753363e+06</td>\n",
       "      <td>4.551565</td>\n",
       "      <td>47.870404</td>\n",
       "      <td>{ \"lon\": 4.551565119152175, \"lat\": 47.87040423...</td>\n",
       "      <td>{ \"lon\": 4.551565119152176, \"lat\": 47.87040423...</td>\n",
       "      <td>POINT (4.55157 47.8704)</td>\n",
       "    </tr>\n",
       "  </tbody>\n",
       "</table>\n",
       "</div>"
      ],
      "text/plain": [
       "   code_uic              libelle fret voyageurs code_ligne  rg_troncon  \\\n",
       "0  87009696        La Douzillère    N         O     594000           1   \n",
       "1  87142554  Châtillon-sur-Seine    O         N     839000           1   \n",
       "\n",
       "        pk                   commune      departemen  idreseau  \\\n",
       "0  244+100            JOUE-LES-TOURS  INDRE-ET-LOIRE      4650   \n",
       "1  035+431  SAINTE-COLOMBE-SUR-SEINE       COTE-D'OR      9201   \n",
       "\n",
       "                                 idgaia        x_l93         y_l93   x_wgs84  \\\n",
       "0  d9dc0092-6667-11e3-89ff-01f464e0362d  522803.9864  6.695782e+06  0.653001   \n",
       "1  29d3de32-dfbc-11e3-a2ff-01a464e0362d  815990.5833  6.753363e+06  4.551565   \n",
       "\n",
       "     y_wgs84                                              c_geo  \\\n",
       "0  47.338661  { \"lon\": 0.6530013866824887, \"lat\": 47.3386614...   \n",
       "1  47.870404  { \"lon\": 4.551565119152175, \"lat\": 47.87040423...   \n",
       "\n",
       "                                        geo_point_2d                 geometry  \n",
       "0  { \"lon\": 0.6530013866824868, \"lat\": 47.3386614...   POINT (0.653 47.33866)  \n",
       "1  { \"lon\": 4.551565119152176, \"lat\": 47.87040423...  POINT (4.55157 47.8704)  "
      ]
     },
     "execution_count": 6,
     "metadata": {},
     "output_type": "execute_result"
    }
   ],
   "source": [
    "gares_france = s3_manager.load_geojson_from_s3(bucket, \"data/DFG/2025/data_geo/externe/4Aliste-des-gares.geojson\")\n",
    "print(gares_france.shape)\n",
    "print(gares_france.crs)\n",
    "gares_france.head(2)"
   ]
  },
  {
   "cell_type": "code",
   "execution_count": 7,
   "id": "8c2d85dc",
   "metadata": {},
   "outputs": [
    {
     "data": {
      "text/html": [
       "<div>\n",
       "<style scoped>\n",
       "    .dataframe tbody tr th:only-of-type {\n",
       "        vertical-align: middle;\n",
       "    }\n",
       "\n",
       "    .dataframe tbody tr th {\n",
       "        vertical-align: top;\n",
       "    }\n",
       "\n",
       "    .dataframe thead th {\n",
       "        text-align: right;\n",
       "    }\n",
       "</style>\n",
       "<table border=\"1\" class=\"dataframe\">\n",
       "  <thead>\n",
       "    <tr style=\"text-align: right;\">\n",
       "      <th></th>\n",
       "      <th>code_uic</th>\n",
       "      <th>libelle</th>\n",
       "      <th>commune</th>\n",
       "      <th>departemen</th>\n",
       "      <th>geometry</th>\n",
       "    </tr>\n",
       "  </thead>\n",
       "  <tbody>\n",
       "    <tr>\n",
       "      <th>0</th>\n",
       "      <td>87009696</td>\n",
       "      <td>La Douzillère</td>\n",
       "      <td>JOUE-LES-TOURS</td>\n",
       "      <td>INDRE-ET-LOIRE</td>\n",
       "      <td>POINT (0.653 47.33866)</td>\n",
       "    </tr>\n",
       "    <tr>\n",
       "      <th>1</th>\n",
       "      <td>87142554</td>\n",
       "      <td>Châtillon-sur-Seine</td>\n",
       "      <td>SAINTE-COLOMBE-SUR-SEINE</td>\n",
       "      <td>COTE-D'OR</td>\n",
       "      <td>POINT (4.55157 47.8704)</td>\n",
       "    </tr>\n",
       "  </tbody>\n",
       "</table>\n",
       "</div>"
      ],
      "text/plain": [
       "   code_uic              libelle                   commune      departemen  \\\n",
       "0  87009696        La Douzillère            JOUE-LES-TOURS  INDRE-ET-LOIRE   \n",
       "1  87142554  Châtillon-sur-Seine  SAINTE-COLOMBE-SUR-SEINE       COTE-D'OR   \n",
       "\n",
       "                  geometry  \n",
       "0   POINT (0.653 47.33866)  \n",
       "1  POINT (4.55157 47.8704)  "
      ]
     },
     "execution_count": 7,
     "metadata": {},
     "output_type": "execute_result"
    }
   ],
   "source": [
    "gares_france = gares_france[['code_uic', 'libelle', 'commune', 'departemen', 'geometry']].copy()\n",
    "gares_france.head(2)"
   ]
  },
  {
   "cell_type": "code",
   "execution_count": 8,
   "id": "7649b20e",
   "metadata": {},
   "outputs": [
    {
     "name": "stdout",
     "output_type": "stream",
     "text": [
      "✅ Fichier téléchargé depuis S3 : temp/frequentation-gares.xlsx\n"
     ]
    }
   ],
   "source": [
    "s3_manager.download_from_s3(\n",
    "    bucket, \n",
    "    \"data/DFG/2025/data_geo/externe/4.Afrequentation-gares(2).xlsx\", \n",
    "    \"temp/frequentation-gares.xlsx\"\n",
    ")"
   ]
  },
  {
   "cell_type": "code",
   "execution_count": 9,
   "id": "61abc821",
   "metadata": {},
   "outputs": [
    {
     "data": {
      "text/html": [
       "<div>\n",
       "<style scoped>\n",
       "    .dataframe tbody tr th:only-of-type {\n",
       "        vertical-align: middle;\n",
       "    }\n",
       "\n",
       "    .dataframe tbody tr th {\n",
       "        vertical-align: top;\n",
       "    }\n",
       "\n",
       "    .dataframe thead th {\n",
       "        text-align: right;\n",
       "    }\n",
       "</style>\n",
       "<table border=\"1\" class=\"dataframe\">\n",
       "  <thead>\n",
       "    <tr style=\"text-align: right;\">\n",
       "      <th></th>\n",
       "      <th>Nom de la gare</th>\n",
       "      <th>Code UIC</th>\n",
       "      <th>Code postal</th>\n",
       "      <th>Segmentation DRG</th>\n",
       "      <th>Total Voyageurs 2023</th>\n",
       "      <th>Total Voyageurs + Non voyageurs 2023</th>\n",
       "      <th>Total Voyageurs 2022</th>\n",
       "      <th>Total Voyageurs + Non voyageurs 2022</th>\n",
       "      <th>Total Voyageurs 2021</th>\n",
       "      <th>Total Voyageurs + Non voyageurs 2021</th>\n",
       "      <th>...</th>\n",
       "      <th>Total Voyageurs 2019</th>\n",
       "      <th>Total Voyageurs + Non voyageurs 2019</th>\n",
       "      <th>Total Voyageurs 2018</th>\n",
       "      <th>Total Voyageurs + Non voyageurs 2018</th>\n",
       "      <th>Total Voyageurs 2017</th>\n",
       "      <th>Total Voyageurs + Non voyageurs 2017</th>\n",
       "      <th>Total Voyageurs 2016</th>\n",
       "      <th>Total Voyageurs + Non voyageurs 2016</th>\n",
       "      <th>Total Voyageurs 2015</th>\n",
       "      <th>Total Voyageurs + Non voyageurs 2015</th>\n",
       "    </tr>\n",
       "  </thead>\n",
       "  <tbody>\n",
       "    <tr>\n",
       "      <th>0</th>\n",
       "      <td>Acheux - Franleu</td>\n",
       "      <td>87316745</td>\n",
       "      <td>80560</td>\n",
       "      <td>C</td>\n",
       "      <td>0</td>\n",
       "      <td>0</td>\n",
       "      <td>2</td>\n",
       "      <td>2</td>\n",
       "      <td>0</td>\n",
       "      <td>0</td>\n",
       "      <td>...</td>\n",
       "      <td>2</td>\n",
       "      <td>2</td>\n",
       "      <td>235</td>\n",
       "      <td>235</td>\n",
       "      <td>104</td>\n",
       "      <td>104</td>\n",
       "      <td>308</td>\n",
       "      <td>308</td>\n",
       "      <td>898</td>\n",
       "      <td>898</td>\n",
       "    </tr>\n",
       "    <tr>\n",
       "      <th>1</th>\n",
       "      <td>Aiguebelette-le-Lac</td>\n",
       "      <td>87741421</td>\n",
       "      <td>73610</td>\n",
       "      <td>C</td>\n",
       "      <td>4394</td>\n",
       "      <td>4394</td>\n",
       "      <td>4046</td>\n",
       "      <td>4046</td>\n",
       "      <td>3658</td>\n",
       "      <td>3658</td>\n",
       "      <td>...</td>\n",
       "      <td>4754</td>\n",
       "      <td>4754</td>\n",
       "      <td>2535</td>\n",
       "      <td>2535</td>\n",
       "      <td>3117</td>\n",
       "      <td>3117</td>\n",
       "      <td>3912</td>\n",
       "      <td>3912</td>\n",
       "      <td>4071</td>\n",
       "      <td>4071</td>\n",
       "    </tr>\n",
       "  </tbody>\n",
       "</table>\n",
       "<p>2 rows × 22 columns</p>\n",
       "</div>"
      ],
      "text/plain": [
       "        Nom de la gare  Code UIC  Code postal Segmentation DRG  \\\n",
       "0     Acheux - Franleu  87316745        80560                C   \n",
       "1  Aiguebelette-le-Lac  87741421        73610                C   \n",
       "\n",
       "   Total Voyageurs 2023  Total Voyageurs + Non voyageurs 2023  \\\n",
       "0                     0                                     0   \n",
       "1                  4394                                  4394   \n",
       "\n",
       "   Total Voyageurs 2022  Total Voyageurs + Non voyageurs 2022  \\\n",
       "0                     2                                     2   \n",
       "1                  4046                                  4046   \n",
       "\n",
       "   Total Voyageurs 2021  Total Voyageurs + Non voyageurs 2021  ...  \\\n",
       "0                     0                                     0  ...   \n",
       "1                  3658                                  3658  ...   \n",
       "\n",
       "   Total Voyageurs 2019  Total Voyageurs + Non voyageurs 2019  \\\n",
       "0                     2                                     2   \n",
       "1                  4754                                  4754   \n",
       "\n",
       "   Total Voyageurs 2018  Total Voyageurs + Non voyageurs 2018  \\\n",
       "0                   235                                   235   \n",
       "1                  2535                                  2535   \n",
       "\n",
       "   Total Voyageurs 2017  Total Voyageurs + Non voyageurs 2017  \\\n",
       "0                   104                                   104   \n",
       "1                  3117                                  3117   \n",
       "\n",
       "   Total Voyageurs 2016  Total Voyageurs + Non voyageurs 2016  \\\n",
       "0                   308                                   308   \n",
       "1                  3912                                  3912   \n",
       "\n",
       "   Total Voyageurs 2015  Total Voyageurs + Non voyageurs 2015  \n",
       "0                   898                                   898  \n",
       "1                  4071                                  4071  \n",
       "\n",
       "[2 rows x 22 columns]"
      ]
     },
     "execution_count": 9,
     "metadata": {},
     "output_type": "execute_result"
    }
   ],
   "source": [
    "gf = pd.read_excel(\"temp/frequentation-gares.xlsx\")\n",
    "gf.head(2)"
   ]
  },
  {
   "cell_type": "code",
   "execution_count": 10,
   "id": "f4bcbb4b",
   "metadata": {},
   "outputs": [
    {
     "data": {
      "text/html": [
       "<div>\n",
       "<style scoped>\n",
       "    .dataframe tbody tr th:only-of-type {\n",
       "        vertical-align: middle;\n",
       "    }\n",
       "\n",
       "    .dataframe tbody tr th {\n",
       "        vertical-align: top;\n",
       "    }\n",
       "\n",
       "    .dataframe thead th {\n",
       "        text-align: right;\n",
       "    }\n",
       "</style>\n",
       "<table border=\"1\" class=\"dataframe\">\n",
       "  <thead>\n",
       "    <tr style=\"text-align: right;\">\n",
       "      <th></th>\n",
       "      <th>Nom de la gare</th>\n",
       "      <th>Code UIC</th>\n",
       "      <th>Code postal</th>\n",
       "      <th>Total Voyageurs 2023</th>\n",
       "      <th>Total Voyageurs + Non voyageurs 2023</th>\n",
       "    </tr>\n",
       "  </thead>\n",
       "  <tbody>\n",
       "    <tr>\n",
       "      <th>0</th>\n",
       "      <td>Acheux - Franleu</td>\n",
       "      <td>87316745</td>\n",
       "      <td>80560</td>\n",
       "      <td>0</td>\n",
       "      <td>0</td>\n",
       "    </tr>\n",
       "    <tr>\n",
       "      <th>1</th>\n",
       "      <td>Aiguebelette-le-Lac</td>\n",
       "      <td>87741421</td>\n",
       "      <td>73610</td>\n",
       "      <td>4394</td>\n",
       "      <td>4394</td>\n",
       "    </tr>\n",
       "  </tbody>\n",
       "</table>\n",
       "</div>"
      ],
      "text/plain": [
       "        Nom de la gare  Code UIC  Code postal  Total Voyageurs 2023  \\\n",
       "0     Acheux - Franleu  87316745        80560                     0   \n",
       "1  Aiguebelette-le-Lac  87741421        73610                  4394   \n",
       "\n",
       "   Total Voyageurs + Non voyageurs 2023  \n",
       "0                                     0  \n",
       "1                                  4394  "
      ]
     },
     "execution_count": 10,
     "metadata": {},
     "output_type": "execute_result"
    }
   ],
   "source": [
    "gares_frequentation_prep = gf[\n",
    "    ['Nom de la gare', 'Code UIC', 'Code postal',\n",
    "    'Total Voyageurs 2023', 'Total Voyageurs + Non voyageurs 2023']\n",
    "].copy()\n",
    "gares_frequentation_prep.head(2)"
   ]
  },
  {
   "cell_type": "code",
   "execution_count": 11,
   "id": "edb00b86",
   "metadata": {},
   "outputs": [],
   "source": [
    "gares_frequentation_prep[\"taux_voyageurs_2023\"] = (\n",
    "    gares_frequentation_prep[\"Total Voyageurs 2023\"] / gares_frequentation_prep[\"Total Voyageurs + Non voyageurs 2023\"]\n",
    ").where(gares_frequentation_prep[\"Total Voyageurs + Non voyageurs 2023\"] != 0, 0) * 100"
   ]
  },
  {
   "cell_type": "code",
   "execution_count": 12,
   "id": "248a614c",
   "metadata": {},
   "outputs": [
    {
     "data": {
      "text/html": [
       "<div>\n",
       "<style scoped>\n",
       "    .dataframe tbody tr th:only-of-type {\n",
       "        vertical-align: middle;\n",
       "    }\n",
       "\n",
       "    .dataframe tbody tr th {\n",
       "        vertical-align: top;\n",
       "    }\n",
       "\n",
       "    .dataframe thead th {\n",
       "        text-align: right;\n",
       "    }\n",
       "</style>\n",
       "<table border=\"1\" class=\"dataframe\">\n",
       "  <thead>\n",
       "    <tr style=\"text-align: right;\">\n",
       "      <th></th>\n",
       "      <th>Nom de la gare</th>\n",
       "      <th>Code UIC</th>\n",
       "      <th>Code postal</th>\n",
       "      <th>taux_voyageurs_2023</th>\n",
       "      <th>Total Voyageurs + Non voyageurs 2023</th>\n",
       "      <th>Total Voyageurs 2023</th>\n",
       "    </tr>\n",
       "  </thead>\n",
       "  <tbody>\n",
       "    <tr>\n",
       "      <th>834</th>\n",
       "      <td>Juvisy-sur-Orge</td>\n",
       "      <td>87545244</td>\n",
       "      <td>91260</td>\n",
       "      <td>100.0</td>\n",
       "      <td>35396457</td>\n",
       "      <td>35396457</td>\n",
       "    </tr>\n",
       "    <tr>\n",
       "      <th>2318</th>\n",
       "      <td>Magenta</td>\n",
       "      <td>87281873</td>\n",
       "      <td>75010</td>\n",
       "      <td>100.0</td>\n",
       "      <td>35160793</td>\n",
       "      <td>35160793</td>\n",
       "    </tr>\n",
       "    <tr>\n",
       "      <th>2065</th>\n",
       "      <td>Haussmann Saint-Lazare</td>\n",
       "      <td>87281899</td>\n",
       "      <td>75009</td>\n",
       "      <td>100.0</td>\n",
       "      <td>34704501</td>\n",
       "      <td>34704501</td>\n",
       "    </tr>\n",
       "  </tbody>\n",
       "</table>\n",
       "</div>"
      ],
      "text/plain": [
       "              Nom de la gare  Code UIC  Code postal  taux_voyageurs_2023  \\\n",
       "834          Juvisy-sur-Orge  87545244        91260                100.0   \n",
       "2318                 Magenta  87281873        75010                100.0   \n",
       "2065  Haussmann Saint-Lazare  87281899        75009                100.0   \n",
       "\n",
       "      Total Voyageurs + Non voyageurs 2023  Total Voyageurs 2023  \n",
       "834                               35396457              35396457  \n",
       "2318                              35160793              35160793  \n",
       "2065                              34704501              34704501  "
      ]
     },
     "execution_count": 12,
     "metadata": {},
     "output_type": "execute_result"
    }
   ],
   "source": [
    "gares_frequentation_prep[\n",
    "    ['Nom de la gare', 'Code UIC', 'Code postal', 'taux_voyageurs_2023', \n",
    "     'Total Voyageurs + Non voyageurs 2023', 'Total Voyageurs 2023']\n",
    "].sort_values(by=[\"taux_voyageurs_2023\", \"Total Voyageurs 2023\"], ascending=False).head(3)"
   ]
  },
  {
   "cell_type": "code",
   "execution_count": 13,
   "id": "bda90f8a",
   "metadata": {},
   "outputs": [],
   "source": [
    "# Uniformisation des clés de jointures\n",
    "gares_frequentation_prep[\"Code UIC\"] = gares_frequentation_prep[\"Code UIC\"].astype(\"int64\")\n",
    "gares_france.code_uic = gares_france.code_uic.astype(\"int64\")"
   ]
  },
  {
   "cell_type": "code",
   "execution_count": 14,
   "id": "0b237f67",
   "metadata": {},
   "outputs": [
    {
     "data": {
      "text/html": [
       "<div>\n",
       "<style scoped>\n",
       "    .dataframe tbody tr th:only-of-type {\n",
       "        vertical-align: middle;\n",
       "    }\n",
       "\n",
       "    .dataframe tbody tr th {\n",
       "        vertical-align: top;\n",
       "    }\n",
       "\n",
       "    .dataframe thead th {\n",
       "        text-align: right;\n",
       "    }\n",
       "</style>\n",
       "<table border=\"1\" class=\"dataframe\">\n",
       "  <thead>\n",
       "    <tr style=\"text-align: right;\">\n",
       "      <th></th>\n",
       "      <th>code_uic</th>\n",
       "      <th>libelle</th>\n",
       "      <th>commune</th>\n",
       "      <th>departemen</th>\n",
       "      <th>geometry</th>\n",
       "      <th>Nom de la gare</th>\n",
       "      <th>Code UIC</th>\n",
       "      <th>Code postal</th>\n",
       "      <th>Total Voyageurs 2023</th>\n",
       "      <th>Total Voyageurs + Non voyageurs 2023</th>\n",
       "      <th>taux_voyageurs_2023</th>\n",
       "    </tr>\n",
       "  </thead>\n",
       "  <tbody>\n",
       "    <tr>\n",
       "      <th>0</th>\n",
       "      <td>87009696</td>\n",
       "      <td>La Douzillère</td>\n",
       "      <td>JOUE-LES-TOURS</td>\n",
       "      <td>INDRE-ET-LOIRE</td>\n",
       "      <td>POINT (0.653 47.33866)</td>\n",
       "      <td>La Douzillère</td>\n",
       "      <td>87009696</td>\n",
       "      <td>37300</td>\n",
       "      <td>6573</td>\n",
       "      <td>6573</td>\n",
       "      <td>100.0</td>\n",
       "    </tr>\n",
       "    <tr>\n",
       "      <th>1</th>\n",
       "      <td>87382218</td>\n",
       "      <td>La Défense</td>\n",
       "      <td>PUTEAUX</td>\n",
       "      <td>HAUTS-DE-SEINE</td>\n",
       "      <td>POINT (2.23847 48.89344)</td>\n",
       "      <td>La Défense</td>\n",
       "      <td>87382218</td>\n",
       "      <td>92800</td>\n",
       "      <td>28148302</td>\n",
       "      <td>28148302</td>\n",
       "      <td>100.0</td>\n",
       "    </tr>\n",
       "  </tbody>\n",
       "</table>\n",
       "</div>"
      ],
      "text/plain": [
       "   code_uic        libelle         commune      departemen  \\\n",
       "0  87009696  La Douzillère  JOUE-LES-TOURS  INDRE-ET-LOIRE   \n",
       "1  87382218     La Défense         PUTEAUX  HAUTS-DE-SEINE   \n",
       "\n",
       "                   geometry Nom de la gare  Code UIC  Code postal  \\\n",
       "0    POINT (0.653 47.33866)  La Douzillère  87009696        37300   \n",
       "1  POINT (2.23847 48.89344)     La Défense  87382218        92800   \n",
       "\n",
       "   Total Voyageurs 2023  Total Voyageurs + Non voyageurs 2023  \\\n",
       "0                  6573                                  6573   \n",
       "1              28148302                              28148302   \n",
       "\n",
       "   taux_voyageurs_2023  \n",
       "0                100.0  \n",
       "1                100.0  "
      ]
     },
     "execution_count": 14,
     "metadata": {},
     "output_type": "execute_result"
    }
   ],
   "source": [
    "gares_france_f = gares_france.merge(\n",
    "    gares_frequentation_prep,\n",
    "    left_on=\"code_uic\",\n",
    "    right_on=\"Code UIC\",\n",
    "    how=\"inner\",\n",
    "    suffixes=(\"_gares\", \"_frequentations\")\n",
    ")\n",
    "gares_france_f.head(2)"
   ]
  },
  {
   "cell_type": "code",
   "execution_count": 15,
   "id": "c6e44896",
   "metadata": {},
   "outputs": [
    {
     "data": {
      "text/html": [
       "<div>\n",
       "<style scoped>\n",
       "    .dataframe tbody tr th:only-of-type {\n",
       "        vertical-align: middle;\n",
       "    }\n",
       "\n",
       "    .dataframe tbody tr th {\n",
       "        vertical-align: top;\n",
       "    }\n",
       "\n",
       "    .dataframe thead th {\n",
       "        text-align: right;\n",
       "    }\n",
       "</style>\n",
       "<table border=\"1\" class=\"dataframe\">\n",
       "  <thead>\n",
       "    <tr style=\"text-align: right;\">\n",
       "      <th></th>\n",
       "      <th>code_uic</th>\n",
       "      <th>Nom de la gare</th>\n",
       "      <th>commune</th>\n",
       "      <th>departement</th>\n",
       "      <th>geometry</th>\n",
       "      <th>Total Voyageurs 2023</th>\n",
       "      <th>Total Voyageurs + Non voyageurs 2023</th>\n",
       "      <th>taux_voyageurs_2023</th>\n",
       "    </tr>\n",
       "  </thead>\n",
       "  <tbody>\n",
       "    <tr>\n",
       "      <th>142</th>\n",
       "      <td>87545244</td>\n",
       "      <td>Juvisy-sur-Orge</td>\n",
       "      <td>JUVISY-SUR-ORGE</td>\n",
       "      <td>ESSONNE</td>\n",
       "      <td>POINT (2.38358 48.68926)</td>\n",
       "      <td>35396457</td>\n",
       "      <td>35396457</td>\n",
       "      <td>100.0</td>\n",
       "    </tr>\n",
       "    <tr>\n",
       "      <th>2481</th>\n",
       "      <td>87545244</td>\n",
       "      <td>Juvisy-sur-Orge</td>\n",
       "      <td>JUVISY-SUR-ORGE</td>\n",
       "      <td>ESSONNE</td>\n",
       "      <td>POINT (2.38062 48.68848)</td>\n",
       "      <td>35396457</td>\n",
       "      <td>35396457</td>\n",
       "      <td>100.0</td>\n",
       "    </tr>\n",
       "  </tbody>\n",
       "</table>\n",
       "</div>"
      ],
      "text/plain": [
       "      code_uic   Nom de la gare          commune departement  \\\n",
       "142   87545244  Juvisy-sur-Orge  JUVISY-SUR-ORGE     ESSONNE   \n",
       "2481  87545244  Juvisy-sur-Orge  JUVISY-SUR-ORGE     ESSONNE   \n",
       "\n",
       "                      geometry  Total Voyageurs 2023  \\\n",
       "142   POINT (2.38358 48.68926)              35396457   \n",
       "2481  POINT (2.38062 48.68848)              35396457   \n",
       "\n",
       "      Total Voyageurs + Non voyageurs 2023  taux_voyageurs_2023  \n",
       "142                               35396457                100.0  \n",
       "2481                              35396457                100.0  "
      ]
     },
     "execution_count": 15,
     "metadata": {},
     "output_type": "execute_result"
    }
   ],
   "source": [
    "f_gares_france = gares_france_f[[\n",
    "    'code_uic', 'Nom de la gare', 'commune', 'departemen', 'geometry',\n",
    "    'Total Voyageurs 2023',\n",
    "    'Total Voyageurs + Non voyageurs 2023', 'taux_voyageurs_2023'\n",
    "]].copy()\n",
    "f_gares_france.rename(columns={\"departemen\": \"departement\"}, inplace=True)\n",
    "f_gares_france.sort_values(by=[\"taux_voyageurs_2023\", \"Total Voyageurs 2023\"], ascending=False).head(2)"
   ]
  },
  {
   "cell_type": "markdown",
   "id": "b85c0b56",
   "metadata": {},
   "source": [
    "## 2 - Identifier la concentration des besoins en stationnement à moins de 100 mètres des gares de france"
   ]
  },
  {
   "cell_type": "markdown",
   "id": "2d7cae3e",
   "metadata": {},
   "source": [
    "### 2.1 - Statistique"
   ]
  },
  {
   "cell_type": "code",
   "execution_count": 16,
   "id": "992ca149",
   "metadata": {},
   "outputs": [],
   "source": [
    "# Reprojection spatiale\n",
    "gdf_2154 = gdf_filtre.to_crs(2154)\n",
    "gares_france_2154 = f_gares_france.to_crs(2154)"
   ]
  },
  {
   "cell_type": "code",
   "execution_count": 17,
   "id": "5f3f7121",
   "metadata": {},
   "outputs": [],
   "source": [
    "besoin_gare = gpd.sjoin_nearest(\n",
    "    gdf_2154,\n",
    "    gares_france_2154,\n",
    "    how=\"left\",\n",
    "    max_distance=100,\n",
    "    lsuffix=\"velo\",\n",
    "    rsuffix=\"gare\",\n",
    "    distance_col=\"dist_m\"\n",
    ")\n",
    "besoin_gare_f = besoin_gare.copy()"
   ]
  },
  {
   "cell_type": "code",
   "execution_count": 18,
   "id": "e760ada7",
   "metadata": {},
   "outputs": [
    {
     "data": {
      "text/html": [
       "<div>\n",
       "<style scoped>\n",
       "    .dataframe tbody tr th:only-of-type {\n",
       "        vertical-align: middle;\n",
       "    }\n",
       "\n",
       "    .dataframe tbody tr th {\n",
       "        vertical-align: top;\n",
       "    }\n",
       "\n",
       "    .dataframe thead th {\n",
       "        text-align: right;\n",
       "    }\n",
       "</style>\n",
       "<table border=\"1\" class=\"dataframe\">\n",
       "  <thead>\n",
       "    <tr style=\"text-align: right;\">\n",
       "      <th></th>\n",
       "      <th>uid</th>\n",
       "      <th>cat</th>\n",
       "      <th>uid_reponse</th>\n",
       "      <th>description</th>\n",
       "      <th>geometry</th>\n",
       "      <th>code</th>\n",
       "      <th>nom</th>\n",
       "      <th>index_gare</th>\n",
       "      <th>code_uic</th>\n",
       "      <th>Nom de la gare</th>\n",
       "      <th>commune</th>\n",
       "      <th>departement</th>\n",
       "      <th>Total Voyageurs 2023</th>\n",
       "      <th>Total Voyageurs + Non voyageurs 2023</th>\n",
       "      <th>taux_voyageurs_2023</th>\n",
       "      <th>dist_m</th>\n",
       "    </tr>\n",
       "  </thead>\n",
       "  <tbody>\n",
       "    <tr>\n",
       "      <th>103</th>\n",
       "      <td>f5cb1917-8625-468f-84de-52d5caf7c4b4</td>\n",
       "      <td>59</td>\n",
       "      <td>970b8cb9-c8dc-4f4c-87cb-6af27639ace7</td>\n",
       "      <td></td>\n",
       "      <td>POINT (1049014.158 6842047.776)</td>\n",
       "      <td>67</td>\n",
       "      <td>Bas-Rhin</td>\n",
       "      <td>2663.0</td>\n",
       "      <td>87212027.0</td>\n",
       "      <td>Strasbourg</td>\n",
       "      <td>STRASBOURG</td>\n",
       "      <td>BAS-RHIN</td>\n",
       "      <td>23907864.0</td>\n",
       "      <td>28126899.0</td>\n",
       "      <td>84.999999</td>\n",
       "      <td>79.684665</td>\n",
       "    </tr>\n",
       "    <tr>\n",
       "      <th>104</th>\n",
       "      <td>6ecfe787-16da-4952-bcd8-3d3b68378475</td>\n",
       "      <td>59</td>\n",
       "      <td>970b8cb9-c8dc-4f4c-87cb-6af27639ace7</td>\n",
       "      <td></td>\n",
       "      <td>POINT (1049068.829 6842135.219)</td>\n",
       "      <td>67</td>\n",
       "      <td>Bas-Rhin</td>\n",
       "      <td>2663.0</td>\n",
       "      <td>87212027.0</td>\n",
       "      <td>Strasbourg</td>\n",
       "      <td>STRASBOURG</td>\n",
       "      <td>BAS-RHIN</td>\n",
       "      <td>23907864.0</td>\n",
       "      <td>28126899.0</td>\n",
       "      <td>84.999999</td>\n",
       "      <td>99.696230</td>\n",
       "    </tr>\n",
       "  </tbody>\n",
       "</table>\n",
       "</div>"
      ],
      "text/plain": [
       "                                      uid  cat  \\\n",
       "103  f5cb1917-8625-468f-84de-52d5caf7c4b4   59   \n",
       "104  6ecfe787-16da-4952-bcd8-3d3b68378475   59   \n",
       "\n",
       "                              uid_reponse description  \\\n",
       "103  970b8cb9-c8dc-4f4c-87cb-6af27639ace7               \n",
       "104  970b8cb9-c8dc-4f4c-87cb-6af27639ace7               \n",
       "\n",
       "                            geometry code       nom  index_gare    code_uic  \\\n",
       "103  POINT (1049014.158 6842047.776)   67  Bas-Rhin      2663.0  87212027.0   \n",
       "104  POINT (1049068.829 6842135.219)   67  Bas-Rhin      2663.0  87212027.0   \n",
       "\n",
       "    Nom de la gare     commune departement  Total Voyageurs 2023  \\\n",
       "103     Strasbourg  STRASBOURG    BAS-RHIN            23907864.0   \n",
       "104     Strasbourg  STRASBOURG    BAS-RHIN            23907864.0   \n",
       "\n",
       "     Total Voyageurs + Non voyageurs 2023  taux_voyageurs_2023     dist_m  \n",
       "103                            28126899.0            84.999999  79.684665  \n",
       "104                            28126899.0            84.999999  99.696230  "
      ]
     },
     "execution_count": 18,
     "metadata": {},
     "output_type": "execute_result"
    }
   ],
   "source": [
    "besoin_gare_o =  besoin_gare[besoin_gare[\"index_gare\"].notnull()]\n",
    "besoin_gare_o.head(2)"
   ]
  },
  {
   "cell_type": "code",
   "execution_count": 19,
   "id": "c0d1fd03",
   "metadata": {},
   "outputs": [
    {
     "data": {
      "text/html": [
       "<div>\n",
       "<style scoped>\n",
       "    .dataframe tbody tr th:only-of-type {\n",
       "        vertical-align: middle;\n",
       "    }\n",
       "\n",
       "    .dataframe tbody tr th {\n",
       "        vertical-align: top;\n",
       "    }\n",
       "\n",
       "    .dataframe thead th {\n",
       "        text-align: right;\n",
       "    }\n",
       "</style>\n",
       "<table border=\"1\" class=\"dataframe\">\n",
       "  <thead>\n",
       "    <tr style=\"text-align: right;\">\n",
       "      <th></th>\n",
       "      <th>code_uic</th>\n",
       "      <th>Nom de la gare</th>\n",
       "      <th>commune</th>\n",
       "      <th>geometry</th>\n",
       "      <th>Total Voyageurs 2023</th>\n",
       "      <th>Total Voyageurs + Non voyageurs 2023</th>\n",
       "      <th>taux_voyageurs_2023</th>\n",
       "      <th>index_gare</th>\n",
       "      <th>uid</th>\n",
       "      <th>cat</th>\n",
       "      <th>dist_m</th>\n",
       "    </tr>\n",
       "  </thead>\n",
       "  <tbody>\n",
       "    <tr>\n",
       "      <th>103</th>\n",
       "      <td>87212027.0</td>\n",
       "      <td>Strasbourg</td>\n",
       "      <td>STRASBOURG</td>\n",
       "      <td>POINT (1049014.158 6842047.776)</td>\n",
       "      <td>23907864.0</td>\n",
       "      <td>28126899.0</td>\n",
       "      <td>84.999999</td>\n",
       "      <td>2663.0</td>\n",
       "      <td>f5cb1917-8625-468f-84de-52d5caf7c4b4</td>\n",
       "      <td>59</td>\n",
       "      <td>79.684665</td>\n",
       "    </tr>\n",
       "    <tr>\n",
       "      <th>104</th>\n",
       "      <td>87212027.0</td>\n",
       "      <td>Strasbourg</td>\n",
       "      <td>STRASBOURG</td>\n",
       "      <td>POINT (1049068.829 6842135.219)</td>\n",
       "      <td>23907864.0</td>\n",
       "      <td>28126899.0</td>\n",
       "      <td>84.999999</td>\n",
       "      <td>2663.0</td>\n",
       "      <td>6ecfe787-16da-4952-bcd8-3d3b68378475</td>\n",
       "      <td>59</td>\n",
       "      <td>99.696230</td>\n",
       "    </tr>\n",
       "  </tbody>\n",
       "</table>\n",
       "</div>"
      ],
      "text/plain": [
       "       code_uic Nom de la gare     commune                         geometry  \\\n",
       "103  87212027.0     Strasbourg  STRASBOURG  POINT (1049014.158 6842047.776)   \n",
       "104  87212027.0     Strasbourg  STRASBOURG  POINT (1049068.829 6842135.219)   \n",
       "\n",
       "     Total Voyageurs 2023  Total Voyageurs + Non voyageurs 2023  \\\n",
       "103            23907864.0                            28126899.0   \n",
       "104            23907864.0                            28126899.0   \n",
       "\n",
       "     taux_voyageurs_2023  index_gare                                   uid  \\\n",
       "103            84.999999      2663.0  f5cb1917-8625-468f-84de-52d5caf7c4b4   \n",
       "104            84.999999      2663.0  6ecfe787-16da-4952-bcd8-3d3b68378475   \n",
       "\n",
       "     cat     dist_m  \n",
       "103   59  79.684665  \n",
       "104   59  99.696230  "
      ]
     },
     "execution_count": 19,
     "metadata": {},
     "output_type": "execute_result"
    }
   ],
   "source": [
    "besoin_gare_o = besoin_gare_o[besoin_gare_o[\"cat\"] == 59][[\n",
    "    'code_uic', 'Nom de la gare', 'commune', 'geometry',\n",
    "    'Total Voyageurs 2023', 'Total Voyageurs + Non voyageurs 2023',\n",
    "    'taux_voyageurs_2023', 'index_gare', 'uid', 'cat', 'dist_m'\n",
    "]].copy()\n",
    "besoin_gare_o.head(2)"
   ]
  },
  {
   "cell_type": "code",
   "execution_count": 20,
   "id": "bc90efff",
   "metadata": {},
   "outputs": [
    {
     "name": "stdout",
     "output_type": "stream",
     "text": [
      "Nombre de besoin en stationnment : 289514\n",
      "Nombre de besoin en stationnment à moins de 100 m des gares : 18959\n",
      "Pourcentage nombre de besoin en stationnement à moins de 100 m des gares : 6.55%\n"
     ]
    }
   ],
   "source": [
    "print(f\"Nombre de besoin en stationnment : {gdf_2154[gdf_2154['cat'] == 59].shape[0]}\")\n",
    "print(f\"Nombre de besoin en stationnment à moins de 100 m des gares : {besoin_gare_f[besoin_gare_f['index_gare'].notnull()].shape[0]}\")\n",
    "pct_points_couverts = 100 * besoin_gare_f[besoin_gare_f['index_gare'].notnull()].shape[0] / gdf_2154[gdf_2154['cat'] == 59].shape[0]\n",
    "print(f\"Pourcentage nombre de besoin en stationnement à moins de 100 m des gares : {pct_points_couverts:.2f}%\")"
   ]
  },
  {
   "cell_type": "markdown",
   "id": "025089e9",
   "metadata": {},
   "source": [
    "### 2.2 - Test d'hypothèse"
   ]
  },
  {
   "cell_type": "code",
   "execution_count": 21,
   "id": "fc663566",
   "metadata": {},
   "outputs": [],
   "source": [
    "n59_total     = gdf_2154[gdf_2154[\"cat\"] == 59].shape[0]\n",
    "n59_covered   = besoin_gare_f.loc[\n",
    "                  (besoin_gare_f[\"cat\"] == 59) &\n",
    "                  besoin_gare_f[\"index_gare\"].notnull()\n",
    "               ].shape[0]\n",
    "n59_notcov    = n59_total - n59_covered"
   ]
  },
  {
   "cell_type": "code",
   "execution_count": 22,
   "id": "2a1c3bab",
   "metadata": {},
   "outputs": [],
   "source": [
    "nrest_total   = gdf_2154[gdf_2154[\"cat\"] != 59].shape[0]\n",
    "nrest_covered = besoin_gare_f.loc[\n",
    "                  (besoin_gare_f[\"cat\"] != 59) &\n",
    "                  besoin_gare_f[\"index_gare\"].notnull()\n",
    "               ].shape[0]\n",
    "nrest_notcov  = nrest_total - nrest_covered"
   ]
  },
  {
   "cell_type": "code",
   "execution_count": 23,
   "id": "b1d386da",
   "metadata": {},
   "outputs": [],
   "source": [
    "table = [[n59_covered,   n59_notcov],\n",
    "         [nrest_covered, nrest_notcov]]"
   ]
  },
  {
   "cell_type": "code",
   "execution_count": 24,
   "id": "3f5db343",
   "metadata": {},
   "outputs": [
    {
     "name": "stdout",
     "output_type": "stream",
     "text": [
      "[[13273, 276241], [5686, 811907]]\n",
      "Odds-ratio : 6.861\n",
      "p-value    : 0\n"
     ]
    }
   ],
   "source": [
    "odds, p = fisher_exact(table, alternative=\"two-sided\")\n",
    "print(table)\n",
    "print(f\"Odds-ratio : {odds:.3f}\")\n",
    "print(f\"p-value    : {p:.4g}\")\n"
   ]
  },
  {
   "cell_type": "markdown",
   "id": "9208dd1d",
   "metadata": {},
   "source": [
    "## 3 - Top 10 des gares avec le plus de besoins en stationnement (Bonus)"
   ]
  },
  {
   "cell_type": "code",
   "execution_count": 25,
   "id": "50221cc4",
   "metadata": {},
   "outputs": [],
   "source": [
    "# Aggregation par nom de la gare\n",
    "besoin_gare_nb = (\n",
    "    besoin_gare_f[besoin_gare_f['index_gare'].notnull()]\n",
    "    .groupby(\"Nom de la gare\")\n",
    "    .size()\n",
    "    .reset_index(name=\"Nombre de besoin en gare\")\n",
    ")"
   ]
  },
  {
   "cell_type": "code",
   "execution_count": 26,
   "id": "a2ebd875",
   "metadata": {},
   "outputs": [
    {
     "data": {
      "image/png": "[encoded data removed]",
      "text/plain": [
       "<Figure size 1000x600 with 1 Axes>"
      ]
     },
     "metadata": {},
     "output_type": "display_data"
    }
   ],
   "source": [
    "# Afficher les graphiques\n",
    "ax = besoin_gare_nb.set_index(\"Nom de la gare\").sort_values(\n",
    "    by=[\"Nombre de besoin en gare\"], \n",
    "    ascending=False\n",
    ").head(10).sort_values(\n",
    "    by=[\"Nombre de besoin en gare\"], \n",
    "    ascending=True\n",
    ").plot(kind=\"barh\", figsize=(10, 6))\n",
    "plt.title(\"Top 10 des gares avec le plus de besoin en stationnement\")\n",
    "plt.legend().remove()\n",
    "plt.ylabel(\"\")\n",
    "\n",
    "# Afficher les chiffres\n",
    "for i in ax.patches:\n",
    "    ax.text(i.get_width() + 5,\n",
    "            i.get_y() + i.get_height()/2,\n",
    "            int(i.get_width()),\n",
    "            va='center')\n",
    "\n",
    "plt.tight_layout()\n",
    "plt.show()\n"
   ]
  },
  {
   "cell_type": "markdown",
   "id": "5698f668",
   "metadata": {},
   "source": [
    "## 4 - Conclusion"
   ]
  },
  {
   "cell_type": "markdown",
   "id": "21f63e07",
   "metadata": {},
   "source": [
    "Nos analyses révèlent un contraste marqué : même si la proximité d’une gare décuple la probabilité qu’un besoin de stationnement vélo soit signalé (OR ≈ 6,8 ; p ≈ 0), seuls 6,5 % des quelque 295 000 points recensés se trouvent à moins de 100 m des quais. Autrement dit, la gare est un hotspot indéniable, mais loin de concentrer la majorité des demandes ; plus de 93 % des besoins émergent ailleurs sur les trajets quotidiens."
   ]
  },
  {
   "cell_type": "markdown",
   "id": "aa33a711",
   "metadata": {},
   "source": [
    "-- END --"
   ]
  }
 ],
 "metadata": {
  "kernelspec": {
   "display_name": "env",
   "language": "python",
   "name": "python3"
  },
  "language_info": {
   "codemirror_mode": {
    "name": "ipython",
    "version": 3
   },
   "file_extension": ".py",
   "mimetype": "text/x-python",
   "name": "python",
   "nbconvert_exporter": "python",
   "pygments_lexer": "ipython3",
   "version": "3.10.16"
  }
 },
 "nbformat": 4,
 "nbformat_minor": 5
}
