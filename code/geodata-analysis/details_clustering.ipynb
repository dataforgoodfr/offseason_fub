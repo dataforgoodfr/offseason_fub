{
 "cells": [
  {
   "cell_type": "markdown",
   "id": "91b89f0d",
   "metadata": {},
   "source": [
    "# Question sur les clusters"
   ]
  },
  {
   "cell_type": "markdown",
   "id": "c8dc2a2f",
   "metadata": {},
   "source": [
    "## Python stuff"
   ]
  },
  {
   "cell_type": "code",
   "execution_count": 1,
   "id": "a18e39ac",
   "metadata": {},
   "outputs": [],
   "source": [
    "import math\n",
    "import numpy as np\n",
    "import geopandas as gpd\n",
    "import contextily as ctx\n",
    "import plotly.express as px\n",
    "import matplotlib.pyplot as plt\n",
    "from sklearn.cluster import DBSCAN\n",
    "from s3_utils import S3Manager\n",
    "\n",
    "# Configs\n",
    "_ = plt.style.use(\"ggplot\")"
   ]
  },
  {
   "cell_type": "markdown",
   "id": "78d1e4f1",
   "metadata": {},
   "source": [
    "## 1 - Récupération des données"
   ]
  },
  {
   "cell_type": "code",
   "execution_count": 2,
   "id": "2ca526d4",
   "metadata": {},
   "outputs": [],
   "source": [
    "# Chargement des éléments de connexion sur S3\n",
    "s3_manager = S3Manager()\n",
    "bucket = \"fub-s3\""
   ]
  },
  {
   "cell_type": "code",
   "execution_count": 3,
   "id": "19293d4a",
   "metadata": {},
   "outputs": [],
   "source": [
    "# Déjà executé\n",
    "# s3_manager.download_from_s3(\n",
    "#     bucket,\n",
    "#     \"data/DFG/2025/data_geo/données-carto-2025-06-03.geojson\", \n",
    "#     \"temp/données-carto-2025-06-03.geojson\"\n",
    "# )"
   ]
  },
  {
   "cell_type": "code",
   "execution_count": 4,
   "id": "80270072",
   "metadata": {},
   "outputs": [],
   "source": [
    "# Données données internes\n",
    "# gdf = s3_manager.load_geojson_from_s3(bucket, \"data/DFG/2025/data_geo/données-carto-2025-06-03.geojson\")\n",
    "gdf = gpd.read_file(\"temp/données-carto-2025-06-03.geojson\")"
   ]
  },
  {
   "cell_type": "code",
   "execution_count": 5,
   "id": "9bf1af72",
   "metadata": {},
   "outputs": [],
   "source": [
    "# Récupération par communes\n",
    "communes = gpd.read_file(\"https://france-geojson.gregoiredavid.fr/repo/communes.geojson\")\n",
    "communes = communes.to_crs(4326)"
   ]
  },
  {
   "cell_type": "code",
   "execution_count": 6,
   "id": "dae61259",
   "metadata": {},
   "outputs": [],
   "source": [
    "gdf = gdf.to_crs(communes.crs)\n",
    "gdf_filtre = gpd.sjoin(gdf, communes, predicate=\"within\", how=\"inner\")\n",
    "gdf_filtre = gdf_filtre.drop(columns=[\"index_right\"])\n",
    "gdf_filtre.rename(columns={\"code\": \"code_commune\", \"nom\": \"nom_commune\"}, inplace=True)"
   ]
  },
  {
   "cell_type": "markdown",
   "id": "bebd18e4",
   "metadata": {},
   "source": [
    "## 2 - % total de point contenu dans les clusters réalisés et ceux qui n'y sont pas."
   ]
  },
  {
   "cell_type": "code",
   "execution_count": 7,
   "id": "9ad94106",
   "metadata": {},
   "outputs": [],
   "source": [
    "# Fonction de clustering\n",
    "def dbscan_clustering(gdf: gpd.GeoDataFrame, dist_m=50):\n",
    "    \"\"\"\n",
    "    Effectue un clustering spatial sur un GeoDataFrame.\n",
    "    \n",
    "    :param gdf: GeoDataFrame avec des géométries de points.\n",
    "    :param dist_m : Distance en mètre entre les points pour former un cluster.\n",
    "    :return: GeoDataFrame avec les clusters ajoutés.\n",
    "    \"\"\"\n",
    "    # Step --> Reprojection\n",
    "    gdf = gdf.to_crs(epsg=2154)\n",
    "    print(f\"✅ La projection du GeoDataFrame est : {gdf.crs}\")\n",
    "\n",
    "    # Step calcul log(n)\n",
    "    min_sample = round(math.log(gdf.shape[0])) + 1\n",
    "    print(f\"ℹ️ La taille de l'échantillon est : {gdf.shape[0]}\")\n",
    "    print(f\"ℹ️ Le nombre minimal d'échantillons pour le clustering est : {min_sample}\")\n",
    "\n",
    "    # Appliquer le clustering\n",
    "    dbscan = DBSCAN(eps=dist_m, min_samples=min_sample, metric='euclidean')\n",
    "    dbscan.fit(gdf.geometry.apply(lambda geom: (geom.x, geom.y)).tolist())\n",
    "    gdf[\"cluster_id\"] = dbscan.labels_\n",
    "    gdf = gdf[gdf[\"cluster_id\"] != -1] # elimine le bruit\n",
    "\n",
    "    print(f\"ℹ️ Le nombre de clusters formés est : {gdf['cluster_id'].nunique()}\")\n",
    "\n",
    "    return gdf"
   ]
  },
  {
   "cell_type": "markdown",
   "id": "76c85e3d",
   "metadata": {},
   "source": [
    "### Cluster 58 : points rouges"
   ]
  },
  {
   "cell_type": "code",
   "execution_count": 8,
   "id": "50f3a7a5",
   "metadata": {},
   "outputs": [],
   "source": [
    "gdf_58 = gdf_filtre[gdf_filtre[\"cat\"] == 58].copy()"
   ]
  },
  {
   "cell_type": "code",
   "execution_count": 9,
   "id": "36200479",
   "metadata": {},
   "outputs": [
    {
     "name": "stdout",
     "output_type": "stream",
     "text": [
      "✅ La projection du GeoDataFrame est : EPSG:2154\n",
      "ℹ️ La taille de l'échantillon est : 578129\n",
      "ℹ️ Le nombre minimal d'échantillons pour le clustering est : 14\n",
      "ℹ️ Le nombre de clusters formés est : 2554\n"
     ]
    }
   ],
   "source": [
    "gdf_58_cluster =  dbscan_clustering(gdf_58, dist_m=50)"
   ]
  },
  {
   "cell_type": "code",
   "execution_count": 10,
   "id": "7361f3b3",
   "metadata": {},
   "outputs": [
    {
     "name": "stdout",
     "output_type": "stream",
     "text": [
      "Nombre de point rouges compris dans les clusters : 109061\n",
      "Nombre total de point rouges : 578129\n",
      "Nombre total de point rouges non compris dans les clusters : 469068\n",
      "Proportion de points rouges dans les clusters : 18.86%\n"
     ]
    }
   ],
   "source": [
    "print(f\"Nombre de point rouges compris dans les clusters : {gdf_58_cluster.shape[0]}\")\n",
    "print(f\"Nombre total de point rouges : {gdf_58.shape[0]}\")\n",
    "print(f\"Nombre total de point rouges non compris dans les clusters : {gdf_58.shape[0] - gdf_58_cluster.shape[0]}\")\n",
    "print(f\"Proportion de points rouges dans les clusters : {gdf_58_cluster.shape[0] / gdf_58.shape[0] * 100:.2f}%\")"
   ]
  },
  {
   "cell_type": "markdown",
   "id": "82a09917",
   "metadata": {},
   "source": [
    "### Cluster 59 : points bleues"
   ]
  },
  {
   "cell_type": "code",
   "execution_count": 11,
   "id": "2c6e7253",
   "metadata": {},
   "outputs": [],
   "source": [
    "gdf_59 = gdf_filtre[gdf_filtre[\"cat\"] == 59].copy()"
   ]
  },
  {
   "cell_type": "code",
   "execution_count": 12,
   "id": "8a39201a",
   "metadata": {},
   "outputs": [
    {
     "name": "stdout",
     "output_type": "stream",
     "text": [
      "✅ La projection du GeoDataFrame est : EPSG:2154\n",
      "ℹ️ La taille de l'échantillon est : 289602\n",
      "ℹ️ Le nombre minimal d'échantillons pour le clustering est : 14\n",
      "ℹ️ Le nombre de clusters formés est : 1344\n"
     ]
    }
   ],
   "source": [
    "gdf_59_cluster =  dbscan_clustering(gdf_59, dist_m=50)"
   ]
  },
  {
   "cell_type": "code",
   "execution_count": 13,
   "id": "fd3cbcd2",
   "metadata": {},
   "outputs": [
    {
     "name": "stdout",
     "output_type": "stream",
     "text": [
      "Nombre de point bleues compris dans les clusters : 55573\n",
      "Nombre total de point bleues : 289602\n",
      "Nombre total de point bleues non compris dans les clusters : 234029\n",
      "Proportion de points bleues dans les clusters : 19.19%\n"
     ]
    }
   ],
   "source": [
    "print(f\"Nombre de point bleues compris dans les clusters : {gdf_59_cluster.shape[0]}\")\n",
    "print(f\"Nombre total de point bleues : {gdf_59.shape[0]}\")\n",
    "print(f\"Nombre total de point bleues non compris dans les clusters : {gdf_59.shape[0] - gdf_59_cluster.shape[0]}\")\n",
    "print(f\"Proportion de points bleues dans les clusters : {gdf_59_cluster.shape[0] / gdf_59.shape[0] * 100:.2f}%\")"
   ]
  },
  {
   "cell_type": "markdown",
   "id": "a50ce742",
   "metadata": {},
   "source": [
    "### Cluster 60 : points verts"
   ]
  },
  {
   "cell_type": "code",
   "execution_count": 14,
   "id": "ffefe64d",
   "metadata": {},
   "outputs": [],
   "source": [
    "gdf_60 = gdf_filtre[gdf_filtre[\"cat\"] == 60].copy()"
   ]
  },
  {
   "cell_type": "code",
   "execution_count": 15,
   "id": "a222f976",
   "metadata": {},
   "outputs": [
    {
     "name": "stdout",
     "output_type": "stream",
     "text": [
      "✅ La projection du GeoDataFrame est : EPSG:2154\n",
      "ℹ️ La taille de l'échantillon est : 239552\n",
      "ℹ️ Le nombre minimal d'échantillons pour le clustering est : 13\n",
      "ℹ️ Le nombre de clusters formés est : 930\n"
     ]
    }
   ],
   "source": [
    "gdf_60_cluster =  dbscan_clustering(gdf_60, dist_m=50)"
   ]
  },
  {
   "cell_type": "code",
   "execution_count": 16,
   "id": "2b296d96",
   "metadata": {},
   "outputs": [
    {
     "name": "stdout",
     "output_type": "stream",
     "text": [
      "Nombre de point vert compris dans les clusters : 48873\n",
      "Nombre total de point vert : 239552\n",
      "Nombre total de point vert non compris dans les clusters : 190679\n",
      "Proportion de points vert dans les clusters : 20.40%\n"
     ]
    }
   ],
   "source": [
    "print(f\"Nombre de point vert compris dans les clusters : {gdf_60_cluster.shape[0]}\")\n",
    "print(f\"Nombre total de point vert : {gdf_60.shape[0]}\")\n",
    "print(f\"Nombre total de point vert non compris dans les clusters : {gdf_60.shape[0] - gdf_60_cluster.shape[0]}\")\n",
    "print(f\"Proportion de points vert dans les clusters : {gdf_60_cluster.shape[0] / gdf_60.shape[0] * 100:.2f}%\")"
   ]
  },
  {
   "cell_type": "markdown",
   "id": "87e27110",
   "metadata": {},
   "source": [
    "-- END --"
   ]
  }
 ],
 "metadata": {
  "kernelspec": {
   "display_name": "env",
   "language": "python",
   "name": "python3"
  },
  "language_info": {
   "codemirror_mode": {
    "name": "ipython",
    "version": 3
   },
   "file_extension": ".py",
   "mimetype": "text/x-python",
   "name": "python",
   "nbconvert_exporter": "python",
   "pygments_lexer": "ipython3",
   "version": "3.10.16"
  }
 },
 "nbformat": 4,
 "nbformat_minor": 5
}
