{
 "cells": [
  {
   "cell_type": "markdown",
   "id": "c99b4531",
   "metadata": {},
   "source": [
    "# Thème 3: Aménagement cyclable/apaisement\n",
    "\n",
    "**Analyse carto** : Identifier et caractériser le nombre d’avis citoyen faisant référence à un projet financé par l’Etat \n",
    "\n",
    "> Hypothèse : L’action financière de l’Etat en matière d’aménagement cyclable améliore la sécurité des cyclistes \n",
    "\n",
    "Nombre de point vert à proximité des (pourcentage de ceux qui sont en vert) % projet qui sont considéré positif\n",
    "\n",
    "(58, 59 60)\n",
    "--> jointure spatiale (58, 59 60)\n",
    "\n",
    "% point vert à -50m FMA \n",
    "% projet financé par l'etat qui ont 1 ou plusieurs point vert"
   ]
  },
  {
   "cell_type": "markdown",
   "id": "d1656015",
   "metadata": {},
   "source": [
    "## Python stuff"
   ]
  },
  {
   "cell_type": "code",
   "execution_count": 4,
   "id": "f52244e7",
   "metadata": {},
   "outputs": [],
   "source": [
    "import pandas as pd\n",
    "import geopandas as gpd\n",
    "# import plotly.express as px\n",
    "from s3_utils import S3Manager\n",
    "import matplotlib.pyplot as plt\n",
    "\n",
    "_ = plt.style.use(\"ggplot\")"
   ]
  },
  {
   "cell_type": "code",
   "execution_count": 5,
   "id": "7371556f",
   "metadata": {},
   "outputs": [],
   "source": [
    "# Chargement des éléments de connexion sur S3\n",
    "s3_manager = S3Manager()\n",
    "bucket = \"fub-s3\""
   ]
  },
  {
   "cell_type": "markdown",
   "id": "62394f49",
   "metadata": {},
   "source": [
    "## 1 - Récupération des données"
   ]
  },
  {
   "cell_type": "code",
   "execution_count": 6,
   "id": "fac0bc67",
   "metadata": {},
   "outputs": [
    {
     "name": "stdout",
     "output_type": "stream",
     "text": [
      "✅ Fichier chargé et converti en GeoDataFrame avec succès\n"
     ]
    },
    {
     "data": {
      "text/html": [
       "<div>\n",
       "<style scoped>\n",
       "    .dataframe tbody tr th:only-of-type {\n",
       "        vertical-align: middle;\n",
       "    }\n",
       "\n",
       "    .dataframe tbody tr th {\n",
       "        vertical-align: top;\n",
       "    }\n",
       "\n",
       "    .dataframe thead th {\n",
       "        text-align: right;\n",
       "    }\n",
       "</style>\n",
       "<table border=\"1\" class=\"dataframe\">\n",
       "  <thead>\n",
       "    <tr style=\"text-align: right;\">\n",
       "      <th></th>\n",
       "      <th>uid</th>\n",
       "      <th>cat</th>\n",
       "      <th>uid_reponse</th>\n",
       "      <th>description</th>\n",
       "      <th>geometry</th>\n",
       "    </tr>\n",
       "  </thead>\n",
       "  <tbody>\n",
       "    <tr>\n",
       "      <th>0</th>\n",
       "      <td>dd441ba7-d3a7-490e-8cfe-1d34e4a09311</td>\n",
       "      <td>58</td>\n",
       "      <td>ffde2d2e-fa32-4bbb-a7f2-f94300dfb19d</td>\n",
       "      <td>Route trop étroite et dangereuse</td>\n",
       "      <td>POINT (4.47109 47.1244)</td>\n",
       "    </tr>\n",
       "    <tr>\n",
       "      <th>1</th>\n",
       "      <td>63ef8e40-8be8-4362-b9ea-5b38a0347ef3</td>\n",
       "      <td>59</td>\n",
       "      <td>ffde2d2e-fa32-4bbb-a7f2-f94300dfb19d</td>\n",
       "      <td>Maison de santé</td>\n",
       "      <td>POINT (4.48483 47.13117)</td>\n",
       "    </tr>\n",
       "    <tr>\n",
       "      <th>2</th>\n",
       "      <td>899273c7-bdec-4e6b-a7bb-f81dd8b2e2cf</td>\n",
       "      <td>59</td>\n",
       "      <td>ffde2d2e-fa32-4bbb-a7f2-f94300dfb19d</td>\n",
       "      <td>Centre social</td>\n",
       "      <td>POINT (4.49131 47.13086)</td>\n",
       "    </tr>\n",
       "    <tr>\n",
       "      <th>3</th>\n",
       "      <td>7818ede4-4bc5-4681-b603-d9799ee57ba9</td>\n",
       "      <td>59</td>\n",
       "      <td>ffde2d2e-fa32-4bbb-a7f2-f94300dfb19d</td>\n",
       "      <td>Centre ville</td>\n",
       "      <td>POINT (4.48614 47.13059)</td>\n",
       "    </tr>\n",
       "    <tr>\n",
       "      <th>4</th>\n",
       "      <td>384f138d-551f-48cb-a8e6-7545a3486eed</td>\n",
       "      <td>58</td>\n",
       "      <td>9ead1f87-7e1e-4c88-8044-567f871bca5d</td>\n",
       "      <td>pas de piste cyclable ; stationnement de voitu...</td>\n",
       "      <td>POINT (3.07002 50.60544)</td>\n",
       "    </tr>\n",
       "  </tbody>\n",
       "</table>\n",
       "</div>"
      ],
      "text/plain": [
       "                                    uid  cat  \\\n",
       "0  dd441ba7-d3a7-490e-8cfe-1d34e4a09311   58   \n",
       "1  63ef8e40-8be8-4362-b9ea-5b38a0347ef3   59   \n",
       "2  899273c7-bdec-4e6b-a7bb-f81dd8b2e2cf   59   \n",
       "3  7818ede4-4bc5-4681-b603-d9799ee57ba9   59   \n",
       "4  384f138d-551f-48cb-a8e6-7545a3486eed   58   \n",
       "\n",
       "                            uid_reponse  \\\n",
       "0  ffde2d2e-fa32-4bbb-a7f2-f94300dfb19d   \n",
       "1  ffde2d2e-fa32-4bbb-a7f2-f94300dfb19d   \n",
       "2  ffde2d2e-fa32-4bbb-a7f2-f94300dfb19d   \n",
       "3  ffde2d2e-fa32-4bbb-a7f2-f94300dfb19d   \n",
       "4  9ead1f87-7e1e-4c88-8044-567f871bca5d   \n",
       "\n",
       "                                         description                  geometry  \n",
       "0                   Route trop étroite et dangereuse   POINT (4.47109 47.1244)  \n",
       "1                                   Maison de santé   POINT (4.48483 47.13117)  \n",
       "2                                     Centre social   POINT (4.49131 47.13086)  \n",
       "3                                      Centre ville   POINT (4.48614 47.13059)  \n",
       "4  pas de piste cyclable ; stationnement de voitu...  POINT (3.07002 50.60544)  "
      ]
     },
     "execution_count": 6,
     "metadata": {},
     "output_type": "execute_result"
    }
   ],
   "source": [
    "# Import des données sources\n",
    "gdf = s3_manager.load_geojson_from_s3(bucket, \"data/DFG/2025/data_geo/données-carto-2025-06-03.geojson\")\n",
    "gdf.head()"
   ]
  },
  {
   "cell_type": "code",
   "execution_count": 7,
   "id": "b0d841b4",
   "metadata": {},
   "outputs": [
    {
     "name": "stdout",
     "output_type": "stream",
     "text": [
      "✅ Fichier chargé et converti en GeoDataFrame avec succès\n",
      "(1178, 9)\n"
     ]
    },
    {
     "data": {
      "text/html": [
       "<div>\n",
       "<style scoped>\n",
       "    .dataframe tbody tr th:only-of-type {\n",
       "        vertical-align: middle;\n",
       "    }\n",
       "\n",
       "    .dataframe tbody tr th {\n",
       "        vertical-align: top;\n",
       "    }\n",
       "\n",
       "    .dataframe thead th {\n",
       "        text-align: right;\n",
       "    }\n",
       "</style>\n",
       "<table border=\"1\" class=\"dataframe\">\n",
       "  <thead>\n",
       "    <tr style=\"text-align: right;\">\n",
       "      <th></th>\n",
       "      <th>id</th>\n",
       "      <th>0</th>\n",
       "      <th>AAP</th>\n",
       "      <th>porteur</th>\n",
       "      <th>nom</th>\n",
       "      <th>description</th>\n",
       "      <th>region</th>\n",
       "      <th></th>\n",
       "      <th>geometry</th>\n",
       "    </tr>\n",
       "  </thead>\n",
       "  <tbody>\n",
       "    <tr>\n",
       "      <th>0</th>\n",
       "      <td>cwOTM</td>\n",
       "      <td></td>\n",
       "      <td>1</td>\n",
       "      <td>Angers Loire Métropole</td>\n",
       "      <td>Réalisation d'une double passerelle dans la co...</td>\n",
       "      <td>Les objectifs du projet consistent à assurer l...</td>\n",
       "      <td>Pays de la Loire</td>\n",
       "      <td></td>\n",
       "      <td>POINT (-0.57579 47.42817)</td>\n",
       "    </tr>\n",
       "    <tr>\n",
       "      <th>1</th>\n",
       "      <td>Q4OTE</td>\n",
       "      <td></td>\n",
       "      <td>1</td>\n",
       "      <td>Clermont Auvergne Métropole</td>\n",
       "      <td>Projet d’aménagement de l’avenue Ernest Cristal</td>\n",
       "      <td>Dans le profil de la nouvelle voirie Ernest Cr...</td>\n",
       "      <td>Auvergne-Rhône-Alpes</td>\n",
       "      <td></td>\n",
       "      <td>POINT (3.11555 45.78565)</td>\n",
       "    </tr>\n",
       "    <tr>\n",
       "      <th>2</th>\n",
       "      <td>Y1NDU</td>\n",
       "      <td></td>\n",
       "      <td>1</td>\n",
       "      <td>Collectivité de Corse</td>\n",
       "      <td>Jonction de la liaison douce entre les quartie...</td>\n",
       "      <td>Création d’une voie verte reliant la voie vert...</td>\n",
       "      <td>Corse</td>\n",
       "      <td></td>\n",
       "      <td>POINT (8.70132 41.93479)</td>\n",
       "    </tr>\n",
       "    <tr>\n",
       "      <th>3</th>\n",
       "      <td>E4NjM</td>\n",
       "      <td></td>\n",
       "      <td>1</td>\n",
       "      <td>Communauté d'Agglomération de Longwy</td>\n",
       "      <td>Démarche responsable de continuité cyclable su...</td>\n",
       "      <td>Le projet faisant l'objet de la présente deman...</td>\n",
       "      <td>Grand Est</td>\n",
       "      <td></td>\n",
       "      <td>POINT (5.76638 49.5214)</td>\n",
       "    </tr>\n",
       "    <tr>\n",
       "      <th>4</th>\n",
       "      <td>E5MDY</td>\n",
       "      <td></td>\n",
       "      <td>1</td>\n",
       "      <td>Communauté d’Agglomération du Grand Montauban</td>\n",
       "      <td>Création d'une liaison cyclable Montauban – Br...</td>\n",
       "      <td>Dans le sens Montauban-Bressols :  l’itinérair...</td>\n",
       "      <td>Occitanie</td>\n",
       "      <td></td>\n",
       "      <td>POINT (1.33791 43.98996)</td>\n",
       "    </tr>\n",
       "  </tbody>\n",
       "</table>\n",
       "</div>"
      ],
      "text/plain": [
       "      id 0 AAP                                        porteur  \\\n",
       "0  cwOTM     1                         Angers Loire Métropole   \n",
       "1  Q4OTE     1                    Clermont Auvergne Métropole   \n",
       "2  Y1NDU     1                          Collectivité de Corse   \n",
       "3  E4NjM     1           Communauté d'Agglomération de Longwy   \n",
       "4  E5MDY     1  Communauté d’Agglomération du Grand Montauban   \n",
       "\n",
       "                                                 nom  \\\n",
       "0  Réalisation d'une double passerelle dans la co...   \n",
       "1    Projet d’aménagement de l’avenue Ernest Cristal   \n",
       "2  Jonction de la liaison douce entre les quartie...   \n",
       "3  Démarche responsable de continuité cyclable su...   \n",
       "4  Création d'une liaison cyclable Montauban – Br...   \n",
       "\n",
       "                                         description                region    \\\n",
       "0  Les objectifs du projet consistent à assurer l...      Pays de la Loire     \n",
       "1  Dans le profil de la nouvelle voirie Ernest Cr...  Auvergne-Rhône-Alpes     \n",
       "2  Création d’une voie verte reliant la voie vert...                 Corse     \n",
       "3  Le projet faisant l'objet de la présente deman...             Grand Est     \n",
       "4  Dans le sens Montauban-Bressols :  l’itinérair...             Occitanie     \n",
       "\n",
       "                    geometry  \n",
       "0  POINT (-0.57579 47.42817)  \n",
       "1   POINT (3.11555 45.78565)  \n",
       "2   POINT (8.70132 41.93479)  \n",
       "3    POINT (5.76638 49.5214)  \n",
       "4   POINT (1.33791 43.98996)  "
      ]
     },
     "execution_count": 7,
     "metadata": {},
     "output_type": "execute_result"
    }
   ],
   "source": [
    "# Import des données d'enrichissements\n",
    "amenagements_cyclables = s3_manager.load_geojson_from_s3(bucket, \"data/DFG/2025/data_geo/externe/3.D. 2025___laur_ats_des_aap_fma__am_nagements_cyclables_.geojson\")\n",
    "print(amenagements_cyclables.shape)\n",
    "amenagements_cyclables.head()"
   ]
  },
  {
   "cell_type": "code",
   "execution_count": 50,
   "id": "28eb6032",
   "metadata": {},
   "outputs": [],
   "source": [
    "url_contour_france = \"https://france-geojson.gregoiredavid.fr/repo/departements.geojson\"\n",
    "contour_france = gpd.read_file(url_contour_france)"
   ]
  },
  {
   "cell_type": "code",
   "execution_count": 51,
   "id": "33e9c5d2",
   "metadata": {},
   "outputs": [],
   "source": [
    "gdf = gdf.to_crs(contour_france.crs)\n",
    "gdf_filtre = gpd.sjoin(gdf, contour_france, predicate=\"within\", how=\"inner\")\n",
    "gdf_filtre = gdf_filtre.drop(columns=[\"index_right\"])"
   ]
  },
  {
   "cell_type": "code",
   "execution_count": 17,
   "id": "7157ad76",
   "metadata": {},
   "outputs": [],
   "source": [
    "amenagements_cyclables = amenagements_cyclables[[\n",
    "    'id', 'AAP', 'porteur', 'nom', 'description', 'region','geometry'\n",
    "]]"
   ]
  },
  {
   "cell_type": "code",
   "execution_count": 53,
   "id": "4b08bc2b",
   "metadata": {},
   "outputs": [],
   "source": [
    "amenagements_cyclables = amenagements_cyclables.to_crs(contour_france.crs)\n",
    "amenagements_cyclables_filtre = gpd.sjoin(amenagements_cyclables, contour_france, predicate=\"within\", how=\"inner\")\n",
    "amenagements_cyclables_filtre = amenagements_cyclables_filtre.drop(columns=[\"index_right\"])"
   ]
  },
  {
   "cell_type": "markdown",
   "id": "81a2e701",
   "metadata": {},
   "source": [
    "## 2 - Nombre d'avis citoyen faisant référence à un projet financé par l'État"
   ]
  },
  {
   "cell_type": "markdown",
   "id": "2cca6c87",
   "metadata": {},
   "source": [
    "### 2.1 - Statistique globale"
   ]
  },
  {
   "cell_type": "code",
   "execution_count": 56,
   "id": "c9116047",
   "metadata": {},
   "outputs": [
    {
     "name": "stdout",
     "output_type": "stream",
     "text": [
      "True\n"
     ]
    }
   ],
   "source": [
    "gdf_2154 = gdf_filtre.to_crs(\"2154\").copy()\n",
    "amenagements_cyclables_2154 = amenagements_cyclables_filtre.to_crs(\"2154\").copy()\n",
    "print(gdf_2154.crs == amenagements_cyclables_2154.crs)"
   ]
  },
  {
   "cell_type": "code",
   "execution_count": 57,
   "id": "fccd5e09",
   "metadata": {},
   "outputs": [],
   "source": [
    "avis_ref_fma = gpd.sjoin_nearest(\n",
    "    gdf_2154,\n",
    "    amenagements_cyclables_2154,\n",
    "    how=\"left\",\n",
    "    max_distance=50,\n",
    "    lsuffix=\"velo\",\n",
    "    rsuffix=\"fma\",\n",
    "    distance_col=\"dist_m\"\n",
    ")"
   ]
  },
  {
   "cell_type": "code",
   "execution_count": null,
   "id": "2d6941c7",
   "metadata": {},
   "outputs": [
    {
     "name": "stdout",
     "output_type": "stream",
     "text": [
      "Nombre de points verts : 239581\n",
      "Nombre de points verts avec un aménagement cyclable à moins de 50 m : 1603\n",
      "Pourcentage de points verts avec un aménagement cyclable à moins de 50 m : 0.67%\n"
     ]
    }
   ],
   "source": [
    "fma_ref_avis = avis_ref_fma[avis_ref_fma[\"cat\"] == 60]\n",
    "print(f\"Nombre de points verts : {fma_ref_avis.shape[0]}\")\n",
    "print(f\"Nombre de points verts avec un aménagement cyclable à moins de 50 m : {fma_ref_avis[fma_ref_avis['id'].notnull()].shape[0]}\")\n",
    "pct_points_couverts = 100 * fma_ref_avis[fma_ref_avis[\"id\"].notnull()].shape[0] / fma_ref_avis.shape[0]\n",
    "print(f\"Pourcentage de points verts avec un aménagement cyclable à moins de 50 m : {pct_points_couverts:.2f}%\")"
   ]
  },
  {
   "cell_type": "markdown",
   "id": "99010837",
   "metadata": {},
   "source": [
    "## 3 - Nombre d'aménagements cyclable faisant référence à un avis citoyen"
   ]
  },
  {
   "cell_type": "markdown",
   "id": "9c40f0d3",
   "metadata": {},
   "source": [
    "### 3.1 - Statistique globale"
   ]
  },
  {
   "cell_type": "code",
   "execution_count": 68,
   "id": "1d3ec661",
   "metadata": {},
   "outputs": [],
   "source": [
    "fma_ref_avis = gpd.sjoin_nearest(\n",
    "    amenagements_cyclables_2154,\n",
    "    gdf_2154,\n",
    "    how=\"left\",\n",
    "    max_distance=50,\n",
    "    lsuffix=\"fma\",\n",
    "    rsuffix=\"velo\",\n",
    "    distance_col=\"dist_m\"\n",
    ")"
   ]
  },
  {
   "cell_type": "code",
   "execution_count": 77,
   "id": "14f6633a",
   "metadata": {},
   "outputs": [
    {
     "name": "stdout",
     "output_type": "stream",
     "text": [
      "Nombre d'aménagement : 1116\n",
      "Nombre d'aménagement à moins de 50 m des avis citoyens : 187\n",
      "Pourcentage de points verts avec un aménagement cyclable à moins de 50 m : 16.76%\n"
     ]
    }
   ],
   "source": [
    "print(f\"Nombre d'aménagement : {amenagements_cyclables_2154.shape[0]}\")\n",
    "print(f\"Nombre d'aménagement à moins de 50 m des avis citoyens : {fma_ref_avis[fma_ref_avis['index_velo'].notnull()].shape[0]}\")\n",
    "pct_points_couverts = 100 * fma_ref_avis[fma_ref_avis[\"index_velo\"].notnull()].shape[0] / amenagements_cyclables_2154.shape[0]\n",
    "print(f\"Pourcentage de points verts avec un aménagement cyclable à moins de 50 m : {pct_points_couverts:.2f}%\")"
   ]
  },
  {
   "cell_type": "code",
   "execution_count": null,
   "id": "baa92f67",
   "metadata": {},
   "outputs": [],
   "source": []
  }
 ],
 "metadata": {
  "kernelspec": {
   "display_name": "env",
   "language": "python",
   "name": "python3"
  },
  "language_info": {
   "codemirror_mode": {
    "name": "ipython",
    "version": 3
   },
   "file_extension": ".py",
   "mimetype": "text/x-python",
   "name": "python",
   "nbconvert_exporter": "python",
   "pygments_lexer": "ipython3",
   "version": "3.10.16"
  }
 },
 "nbformat": 4,
 "nbformat_minor": 5
}
