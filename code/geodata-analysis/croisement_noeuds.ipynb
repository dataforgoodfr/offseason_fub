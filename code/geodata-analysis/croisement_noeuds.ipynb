{
 "cells": [
  {
   "cell_type": "markdown",
   "id": "6ed61ef4",
   "metadata": {},
   "source": [
    "# Thème 3: Aménagement cyclable/apaisement\n",
    "**Correspondance cartographique :** densité point rouge_58 / vert_60 x type de voirie (Données Route 500) \n",
    "- Identifier la part des points rouges situées à moins de 50 mètres de voies / carrefours routières \n",
    "- La majorité des points rouges se situe sur des infrastructures routières complexes (voies structurantes / carrefour routier) \n",
    "\n",
    "> Hypothèse : Il faut transformer les infrastructures automobiles structurantes pour sécuriser la pratique des cyclistes\n",
    "\n",
    "**Consignes supplémentaires :** Initialement l'idée était de faire ça avec les points uniques mais faire cela à partir des concentrations de points que tu as identifié sera sans doute plus pertinent.<br/>\n",
    "\n",
    "identifier pour chaque cluster (vert / rouge) :\n",
    "1. sur quels types de voirie il se situe (oui ou non présent sur un gros axe)\n",
    "2. Et voir s'il y a une corrélation "
   ]
  },
  {
   "cell_type": "markdown",
   "id": "cf121706",
   "metadata": {},
   "source": [
    "(on retrouve un lien entre cluster rouge & liaison à vocation régionale/nationale là où on a des infra de route les plus importantes les points les plus dangereux car ce n'est pas adaptée)\n",
    "!= points verts --> liaisons locales (car c'est aménagés)\n",
    "\n",
    "\n",
    "NB_VOIES --> danger car voie trop grande ??? \n",
    "\n",
    "\n",
    "Livrable : tableau + graphique + correlation ou pas\n",
    "\n",
    "Cluster contient un carrefour ? --> typologie du carrefour lien entre la présence d'un carrefour et la présence d'un cluster ? "
   ]
  },
  {
   "cell_type": "markdown",
   "id": "2bf074f2",
   "metadata": {},
   "source": [
    "## Python stuff"
   ]
  },
  {
   "cell_type": "code",
   "execution_count": 1,
   "id": "f0679cae",
   "metadata": {},
   "outputs": [],
   "source": [
    "import numpy as np\n",
    "import pandas as pd\n",
    "import geopandas as gpd\n",
    "import plotly.express as px\n",
    "from s3_utils import S3Manager\n",
    "import matplotlib.pyplot as plt\n",
    "from scipy.stats import chi2_contingency, fisher_exact\n",
    "\n",
    "# Configs\n",
    "_ = plt.style.use(\"ggplot\")"
   ]
  },
  {
   "cell_type": "code",
   "execution_count": 2,
   "id": "73d5dca6",
   "metadata": {},
   "outputs": [],
   "source": [
    "s3_manager = S3Manager()\n",
    "bucket = \"fub-s3\""
   ]
  },
  {
   "cell_type": "markdown",
   "id": "ea281bc7",
   "metadata": {},
   "source": [
    "## 1 - Récupération et préparation des données"
   ]
  },
  {
   "cell_type": "markdown",
   "id": "2e2fa70a",
   "metadata": {},
   "source": [
    "### 1.1 - Clusters en entrée"
   ]
  },
  {
   "cell_type": "code",
   "execution_count": 3,
   "id": "336eebfc",
   "metadata": {},
   "outputs": [],
   "source": [
    "gdf_58 = gpd.read_file(\"temp/cluster_cat_58.geojson\")\n",
    "gdf_60 = gpd.read_file(\"temp/cluster_cat_60.geojson\")"
   ]
  },
  {
   "cell_type": "code",
   "execution_count": 4,
   "id": "e2fa032b",
   "metadata": {},
   "outputs": [
    {
     "name": "stdout",
     "output_type": "stream",
     "text": [
      "EPSG:4326\n"
     ]
    },
    {
     "data": {
      "text/html": [
       "<div>\n",
       "<style scoped>\n",
       "    .dataframe tbody tr th:only-of-type {\n",
       "        vertical-align: middle;\n",
       "    }\n",
       "\n",
       "    .dataframe tbody tr th {\n",
       "        vertical-align: top;\n",
       "    }\n",
       "\n",
       "    .dataframe thead th {\n",
       "        text-align: right;\n",
       "    }\n",
       "</style>\n",
       "<table border=\"1\" class=\"dataframe\">\n",
       "  <thead>\n",
       "    <tr style=\"text-align: right;\">\n",
       "      <th></th>\n",
       "      <th>cluster_id</th>\n",
       "      <th>uid</th>\n",
       "      <th>cat</th>\n",
       "      <th>uid_reponse</th>\n",
       "      <th>description</th>\n",
       "      <th>code_commune</th>\n",
       "      <th>nom_commune</th>\n",
       "      <th>nb_points</th>\n",
       "      <th>total_commune</th>\n",
       "      <th>taux_points</th>\n",
       "      <th>geometry</th>\n",
       "    </tr>\n",
       "  </thead>\n",
       "  <tbody>\n",
       "    <tr>\n",
       "      <th>0</th>\n",
       "      <td>0</td>\n",
       "      <td>261dbaa4-2555-40b2-a627-cb7c0d947172</td>\n",
       "      <td>58</td>\n",
       "      <td>d9bfec3d-fef7-47c9-b949-60964467556f</td>\n",
       "      <td></td>\n",
       "      <td>92049</td>\n",
       "      <td>Montrouge</td>\n",
       "      <td>89</td>\n",
       "      <td>554</td>\n",
       "      <td>16.06</td>\n",
       "      <td>POLYGON ((2.31115 48.8156, 2.31105 48.81604, 2...</td>\n",
       "    </tr>\n",
       "    <tr>\n",
       "      <th>1</th>\n",
       "      <td>1</td>\n",
       "      <td>8489e10a-8434-4d03-8161-a0606c67f44b</td>\n",
       "      <td>58</td>\n",
       "      <td>d9bfec3d-fef7-47c9-b949-60964467556f</td>\n",
       "      <td></td>\n",
       "      <td>92049</td>\n",
       "      <td>Montrouge</td>\n",
       "      <td>109</td>\n",
       "      <td>554</td>\n",
       "      <td>19.68</td>\n",
       "      <td>POLYGON ((2.31914 48.81765, 2.3185 48.8187, 2....</td>\n",
       "    </tr>\n",
       "    <tr>\n",
       "      <th>2</th>\n",
       "      <td>2</td>\n",
       "      <td>8f6e0b77-2819-435e-a910-ceb2905e89ae</td>\n",
       "      <td>58</td>\n",
       "      <td>edf78d17-34e7-4c6a-879b-a3f298e67105</td>\n",
       "      <td>Grand échangeur</td>\n",
       "      <td>69199</td>\n",
       "      <td>Saint-Fons</td>\n",
       "      <td>24</td>\n",
       "      <td>37</td>\n",
       "      <td>64.86</td>\n",
       "      <td>POLYGON ((4.85501 45.71655, 4.85466 45.71659, ...</td>\n",
       "    </tr>\n",
       "  </tbody>\n",
       "</table>\n",
       "</div>"
      ],
      "text/plain": [
       "   cluster_id                                   uid  cat  \\\n",
       "0           0  261dbaa4-2555-40b2-a627-cb7c0d947172   58   \n",
       "1           1  8489e10a-8434-4d03-8161-a0606c67f44b   58   \n",
       "2           2  8f6e0b77-2819-435e-a910-ceb2905e89ae   58   \n",
       "\n",
       "                            uid_reponse      description code_commune  \\\n",
       "0  d9bfec3d-fef7-47c9-b949-60964467556f                         92049   \n",
       "1  d9bfec3d-fef7-47c9-b949-60964467556f                         92049   \n",
       "2  edf78d17-34e7-4c6a-879b-a3f298e67105  Grand échangeur        69199   \n",
       "\n",
       "  nom_commune  nb_points  total_commune  taux_points  \\\n",
       "0   Montrouge         89            554        16.06   \n",
       "1   Montrouge        109            554        19.68   \n",
       "2  Saint-Fons         24             37        64.86   \n",
       "\n",
       "                                            geometry  \n",
       "0  POLYGON ((2.31115 48.8156, 2.31105 48.81604, 2...  \n",
       "1  POLYGON ((2.31914 48.81765, 2.3185 48.8187, 2....  \n",
       "2  POLYGON ((4.85501 45.71655, 4.85466 45.71659, ...  "
      ]
     },
     "execution_count": 4,
     "metadata": {},
     "output_type": "execute_result"
    }
   ],
   "source": [
    "# Infos rapides sur les datasets \n",
    "print(gdf_58.crs if gdf_60.crs == gdf_58.crs else \"Les CRS sont différents uniformiser les données\")\n",
    "gdf_58.head(3)"
   ]
  },
  {
   "cell_type": "markdown",
   "id": "39a697da",
   "metadata": {},
   "source": [
    "### 1.2 - Données d'enrichissement"
   ]
  },
  {
   "cell_type": "code",
   "execution_count": 5,
   "id": "f1d03042",
   "metadata": {},
   "outputs": [
    {
     "name": "stdout",
     "output_type": "stream",
     "text": [
      "✅ Fichier téléchargé depuis S3 : temp/NOEUD_ROUTIER.fgb\n"
     ]
    }
   ],
   "source": [
    "# Téléchargement des fichiers depuis S3\n",
    "# s3_manager.download_from_s3(bucket, \"data/DFG/2025/data_geo/externe/3.B.COMMUNICATION_RESTREINTE.fgb\", \"temp/COMMUNICATION_RESTREINTE.fgb\")\n",
    "# s3_manager.download_from_s3(bucket, \"data/DFG/2025/data_geo/externe/3.B.NOEUD_COMMUNE.fgb\", \"temp/NOEUD_COMMUNE.fgb\")\n",
    "s3_manager.download_from_s3(bucket, \"data/DFG/2025/data_geo/externe/3.B.NOEUD_ROUTIER.fgb\", \"temp/NOEUD_ROUTIER.fgb\")\n",
    "# s3_manager.download_from_s3(bucket, \"data/DFG/2025/data_geo/externe/3.B.TRONCON_ROUTE.fgb\", \"temp/TRONCON_ROUTE.fgb\")"
   ]
  },
  {
   "cell_type": "code",
   "execution_count": 6,
   "id": "d34fea16",
   "metadata": {},
   "outputs": [],
   "source": [
    "# communication_restreinte = gpd.read_file(\"temp/COMMUNICATION_RESTREINTE.fgb\") # ignoré\n",
    "# noeud_commune = gpd.read_file(\"temp/NOEUD_COMMUNE.fgb\") # doublon spatial avec noeud_routier\n",
    "# troncon_route = gpd.read_file(\"temp/TRONCON_ROUTE.fgb\")\n",
    "noeud_routier = gpd.read_file(\"temp/NOEUD_ROUTIER.fgb\")"
   ]
  },
  {
   "cell_type": "code",
   "execution_count": 7,
   "id": "3b3e4bac",
   "metadata": {},
   "outputs": [
    {
     "data": {
      "text/html": [
       "<div>\n",
       "<style scoped>\n",
       "    .dataframe tbody tr th:only-of-type {\n",
       "        vertical-align: middle;\n",
       "    }\n",
       "\n",
       "    .dataframe tbody tr th {\n",
       "        vertical-align: top;\n",
       "    }\n",
       "\n",
       "    .dataframe thead th {\n",
       "        text-align: right;\n",
       "    }\n",
       "</style>\n",
       "<table border=\"1\" class=\"dataframe\">\n",
       "  <thead>\n",
       "    <tr style=\"text-align: right;\">\n",
       "      <th></th>\n",
       "      <th>ID_RTE500</th>\n",
       "      <th>NATURE</th>\n",
       "      <th>geometry</th>\n",
       "    </tr>\n",
       "  </thead>\n",
       "  <tbody>\n",
       "    <tr>\n",
       "      <th>0</th>\n",
       "      <td>192745</td>\n",
       "      <td>Changement d'attribut</td>\n",
       "      <td>POINT (1222200.161 6052904.435)</td>\n",
       "    </tr>\n",
       "    <tr>\n",
       "      <th>1</th>\n",
       "      <td>192742</td>\n",
       "      <td>Carrefour simple</td>\n",
       "      <td>POINT (1222863.857 6053870.408)</td>\n",
       "    </tr>\n",
       "    <tr>\n",
       "      <th>2</th>\n",
       "      <td>192737</td>\n",
       "      <td>Changement d'attribut</td>\n",
       "      <td>POINT (1222546.693 6055511.21)</td>\n",
       "    </tr>\n",
       "    <tr>\n",
       "      <th>3</th>\n",
       "      <td>192738</td>\n",
       "      <td>Carrefour simple</td>\n",
       "      <td>POINT (1221728.746 6054722.377)</td>\n",
       "    </tr>\n",
       "    <tr>\n",
       "      <th>4</th>\n",
       "      <td>192739</td>\n",
       "      <td>Carrefour simple</td>\n",
       "      <td>POINT (1216993.712 6054744.081)</td>\n",
       "    </tr>\n",
       "  </tbody>\n",
       "</table>\n",
       "</div>"
      ],
      "text/plain": [
       "   ID_RTE500                 NATURE                         geometry\n",
       "0     192745  Changement d'attribut  POINT (1222200.161 6052904.435)\n",
       "1     192742       Carrefour simple  POINT (1222863.857 6053870.408)\n",
       "2     192737  Changement d'attribut   POINT (1222546.693 6055511.21)\n",
       "3     192738       Carrefour simple  POINT (1221728.746 6054722.377)\n",
       "4     192739       Carrefour simple  POINT (1216993.712 6054744.081)"
      ]
     },
     "execution_count": 7,
     "metadata": {},
     "output_type": "execute_result"
    }
   ],
   "source": [
    "noeud_routier.head()"
   ]
  },
  {
   "cell_type": "markdown",
   "id": "03233f8b",
   "metadata": {},
   "source": [
    "#### 2.1.1 - Statistiques globales "
   ]
  }
 ],
 "metadata": {
  "kernelspec": {
   "display_name": "env",
   "language": "python",
   "name": "python3"
  },
  "language_info": {
   "codemirror_mode": {
    "name": "ipython",
    "version": 3
   },
   "file_extension": ".py",
   "mimetype": "text/x-python",
   "name": "python",
   "nbconvert_exporter": "python",
   "pygments_lexer": "ipython3",
   "version": "3.10.16"
  }
 },
 "nbformat": 4,
 "nbformat_minor": 5
}
